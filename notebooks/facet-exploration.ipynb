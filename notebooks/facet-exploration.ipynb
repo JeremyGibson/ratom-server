{
 "cells": [
  {
   "cell_type": "code",
   "execution_count": 162,
   "metadata": {},
   "outputs": [],
   "source": [
    "# Setup Notebook to load Django code\n",
    "# From project root, run: jupyter-lab\n",
    "\n",
    "import os\n",
    "import sys\n",
    "from pathlib import Path\n",
    "\n",
    "django_project_dir = Path('../')\n",
    "sys.path.insert(0, str(django_project_dir))\n",
    "os.environ.setdefault(\"DJANGO_SETTINGS_MODULE\", \"ratom_api.settings.local\")\n",
    "\n",
    "import django\n",
    "django.setup()"
   ]
  },
  {
   "cell_type": "code",
   "execution_count": 267,
   "metadata": {},
   "outputs": [
    {
     "name": "stdout",
     "output_type": "stream",
     "text": [
      "Deleting index '<elasticsearch_dsl.index.Index object at 0x7f935a7e0f50>'\n",
      "2019-12-03 08:37:24,844 elasticsearch        INFO     DELETE http://localhost:9200/message [status:200 request:0.040s]\n",
      "Creating index '<elasticsearch_dsl.index.Index object at 0x7f935a7e0f50>'\n",
      "2019-12-03 08:37:24,991 elasticsearch        INFO     PUT http://localhost:9200/message [status:200 request:0.146s]\n",
      "Indexing 1328 'Message' objects (parallel)\n",
      "2019-12-03 08:37:25,986 elasticsearch        INFO     POST http://localhost:9200/_bulk?refresh=true [status:200 request:0.452s]\n",
      "2019-12-03 08:37:26,776 elasticsearch        INFO     POST http://localhost:9200/_bulk?refresh=true [status:200 request:0.397s]\n",
      "2019-12-03 08:37:27,119 elasticsearch        INFO     POST http://localhost:9200/_bulk?refresh=true [status:200 request:0.196s]\n",
      "2.04user 0.14system 0:03.09elapsed 70%CPU (0avgtext+0avgdata 86624maxresident)k\n",
      "0inputs+8outputs (0major+20682minor)pagefaults 0swaps\n"
     ]
    }
   ],
   "source": [
    "! time python ../manage.py search_index -f --rebuild --parallel"
   ]
  },
  {
   "cell_type": "code",
   "execution_count": 268,
   "metadata": {},
   "outputs": [],
   "source": [
    "import pandas as pd\n",
    "\n",
    "from elasticsearch_dsl import Q, FacetedSearch, TermsFacet, DateHistogramFacet\n",
    "\n",
    "from ratom.documents import MessageDocument"
   ]
  },
  {
   "cell_type": "markdown",
   "metadata": {},
   "source": [
    "# Match\n",
    "What does a message document look like right now"
   ]
  },
  {
   "cell_type": "code",
   "execution_count": 269,
   "metadata": {},
   "outputs": [
    {
     "data": {
      "text/plain": [
       "{'meta': {},\n",
       " '_d_': {'_related_instance_to_ignore': None},\n",
       " '_prepared_fields': [('collection',\n",
       "   ObjectField(),\n",
       "   functools.partial(<bound method ObjectField.get_value_from_instance of ObjectField()>, field_value_to_ignore=None)),\n",
       "  ('labels',\n",
       "   KeywordField(),\n",
       "   <bound method MessageDocument.prepare_labels of MessageDocument()>),\n",
       "  ('msg_from',\n",
       "   TextField(),\n",
       "   functools.partial(<bound method DEDField.get_value_from_instance of TextField()>, field_value_to_ignore=None)),\n",
       "  ('msg_subject',\n",
       "   TextField(),\n",
       "   functools.partial(<bound method DEDField.get_value_from_instance of TextField()>, field_value_to_ignore=None)),\n",
       "  ('msg_body',\n",
       "   TextField(),\n",
       "   functools.partial(<bound method DEDField.get_value_from_instance of TextField()>, field_value_to_ignore=None)),\n",
       "  ('directory',\n",
       "   TextField(),\n",
       "   functools.partial(<bound method DEDField.get_value_from_instance of TextField()>, field_value_to_ignore=None)),\n",
       "  ('sent_date',\n",
       "   DateField(),\n",
       "   functools.partial(<bound method DEDField.get_value_from_instance of DateField()>, field_value_to_ignore=None))]}"
      ]
     },
     "execution_count": 269,
     "metadata": {},
     "output_type": "execute_result"
    }
   ],
   "source": [
    "md = MessageDocument()\n",
    "md.__dict__"
   ]
  },
  {
   "cell_type": "markdown",
   "metadata": {},
   "source": [
    "# Facet"
   ]
  },
  {
   "cell_type": "code",
   "execution_count": 270,
   "metadata": {},
   "outputs": [],
   "source": [
    "class MessageSearch(FacetedSearch):\n",
    "    doc_types = [MessageDocument, ]\n",
    "    fields = ['msg_subject', 'msg_body', 'directory']\n",
    "\n",
    "    facets = {\n",
    "        'labels': TermsFacet(field='labels'),\n",
    "        'Message Sent': DateHistogramFacet(field='sent_date', interval='month'),\n",
    "    }"
   ]
  },
  {
   "cell_type": "code",
   "execution_count": 271,
   "metadata": {},
   "outputs": [
    {
     "name": "stderr",
     "output_type": "stream",
     "text": [
      "2019-12-03 08:37:32,329 elasticsearch        INFO     GET http://localhost:9200/_all/_search [status:200 request:0.041s]\n"
     ]
    }
   ],
   "source": [
    "# how do you combine with query?\n",
    "search = MessageSearch(\"pipeline\")\n",
    "response = search.execute()"
   ]
  },
  {
   "cell_type": "code",
   "execution_count": 272,
   "metadata": {},
   "outputs": [
    {
     "name": "stdout",
     "output_type": "stream",
     "text": [
      "total hits eq 46\n",
      "6.2172685 Scaled-back Alaskan pipeline proposal in works\n",
      "5.500802 Organization Changes\n",
      "5.1720777 Northern Natural Gas\n",
      "4.3007917 Williams Energy News Live -- today's video newscast\n",
      "3.9822066 Williams Energy News Live -- today's video newscast\n",
      "3.758673 Shedding light on power prices\n",
      "3.65606 Williams Energy News Live -- today's video newscast\n",
      "3.5589008 Tabled, canceled project numbers climbing\n",
      "3.2581546 GREAT ROTATION OPPORTUNITY IN EBS ORIGINATION AMERICAS\n",
      "3.2581546 Enron Update\n",
      "2001-09-01 00:00:00 : 5\n",
      "2001-10-01 00:00:00 : 9\n",
      "2001-11-01 00:00:00 : 8\n",
      "2001-12-01 00:00:00 : 5\n",
      "2002-01-01 00:00:00 : 17\n",
      "2002-02-01 00:00:00 : 2\n"
     ]
    }
   ],
   "source": [
    "# access hits and other attributes as usual\n",
    "total = response.hits.total\n",
    "print('total hits', total.relation, total.value)\n",
    "for hit in response:\n",
    "    print(hit.meta.score, hit.msg_subject)\n",
    "\n",
    "for (tag, count, selected) in response.facets['Message Sent']:\n",
    "    print(tag, ' (SELECTED):' if selected else ':', count)"
   ]
  },
  {
   "cell_type": "markdown",
   "metadata": {},
   "source": [
    "# Add more facets profit"
   ]
  },
  {
   "cell_type": "code",
   "execution_count": 273,
   "metadata": {},
   "outputs": [],
   "source": [
    "class MessageDateSearch(FacetedSearch):\n",
    "    doc_types = [MessageDocument, ]\n",
    "    fields = ['msg_subject', 'msg_body']\n",
    "    \n",
    "    facets = {\n",
    "        'NER Tags': TermsFacet(field='labels'),\n",
    "        'Message Sent': DateHistogramFacet(field='sent_date', interval='month'),\n",
    "        'Folder': TermsFacet(field='directory'),\n",
    "        'Sender': TermsFacet(field='msg_from')\n",
    "    }"
   ]
  },
  {
   "cell_type": "code",
   "execution_count": 274,
   "metadata": {},
   "outputs": [
    {
     "name": "stderr",
     "output_type": "stream",
     "text": [
      "2019-12-03 08:37:35,758 elasticsearch        INFO     GET http://localhost:9200/_all/_search [status:200 request:0.053s]\n"
     ]
    }
   ],
   "source": [
    "mds = MessageDateSearch(\"pipeline\")\n",
    "resp = mds.execute()"
   ]
  },
  {
   "cell_type": "code",
   "execution_count": 275,
   "metadata": {},
   "outputs": [
    {
     "data": {
      "text/plain": [
       "{'_d_': {'NER Tags': [('CARDINAL', 46, False),\n",
       "   ('DATE', 46, False),\n",
       "   ('ORG', 46, False),\n",
       "   ('PERSON', 44, False),\n",
       "   ('GPE', 40, False),\n",
       "   ('MONEY', 35, False),\n",
       "   ('NORP', 26, False),\n",
       "   ('LOC', 23, False),\n",
       "   ('PERCENT', 23, False),\n",
       "   ('PRODUCT', 21, False)],\n",
       "  'Message Sent': [(datetime.datetime(2001, 9, 1, 0, 0), 5, False),\n",
       "   (datetime.datetime(2001, 10, 1, 0, 0), 9, False),\n",
       "   (datetime.datetime(2001, 11, 1, 0, 0), 8, False),\n",
       "   (datetime.datetime(2001, 12, 1, 0, 0), 5, False),\n",
       "   (datetime.datetime(2002, 1, 1, 0, 0), 17, False),\n",
       "   (datetime.datetime(2002, 2, 1, 0, 0), 2, False)],\n",
       "  'Folder': [('/Top of Personal Folders/saibi-e/ESAIBI (Non-Privileged)/Saibi, Eric/Inbox',\n",
       "    22,\n",
       "    False),\n",
       "   ('/Top of Personal Folders/saibi-e/ExMerge - Saibi, Eric/Inbox', 21, False),\n",
       "   ('/Top of Personal Folders/saibi-e/Eric_Saibi_Jan2002/Saibi, Eric/Deleted Items',\n",
       "    1,\n",
       "    False),\n",
       "   ('/Top of Personal Folders/saibi-e/Eric_Saibi_Jan2002/Saibi, Eric/Inbox',\n",
       "    1,\n",
       "    False),\n",
       "   ('/Top of Personal Folders/saibi-e/ExMerge - Saibi, Eric/Sent Items',\n",
       "    1,\n",
       "    False)],\n",
       "  'Sender': [('\"Jay Rickerts eCenter@williams.com@ENRON\" <IMCEANOTES-Jay+20Rickerts+20+3CeCenter+40williams+2Ecom+3E+40ENRON@ENRON.com>',\n",
       "    15,\n",
       "    False),\n",
       "   ('\"Energy Insight Editor EI_editor@FTENERGY.COM@ENRON\" <IMCEANOTES-Energy+20Insight+20Editor+20+3CEI+5Feditor+40FTENERGY+2ECOM+3E+40ENRON@ENRON.com>',\n",
       "    9,\n",
       "    False),\n",
       "   ('\"Energy Insight Editor EI_editor@PLATTS.COM@ENRON\" <IMCEANOTES-Energy+20Insight+20Editor+20+3CEI+5Feditor+40PLATTS+2ECOM+3E+40ENRON@ENRON.com>',\n",
       "    9,\n",
       "    False),\n",
       "   ('\"Enron Office Of The Chairman\" <mbx_OfficeChairman@ENRON.com>', 3, False),\n",
       "   ('\"energybulletin@PLATTS.COM@ENRON\" <IMCEANOTES-energybulletin+40PLATTS+2ECOM+40ENRON@ENRON.com>',\n",
       "    3,\n",
       "    False),\n",
       "   ('\"Ken Lay- Chairman of the Board@ENRON\" <IMCEANOTES-Ken+20Lay-+20Chairman+20of+20the+20Board+40ENRON@ENRON.com>',\n",
       "    2,\n",
       "    False),\n",
       "   ('\"Ken Lay - Office of the Chairman\" <mbx_klayofficechair@ENRON.com>',\n",
       "    1,\n",
       "    False),\n",
       "   ('\"Ken Lay-@ENRON\" <IMCEANOTES-Ken+20Lay-+40ENRON@ENRON.com>', 1, False),\n",
       "   ('\"Stan Horton- Chairman and CEO of Enron Global Services@ENRON\" <IMCEANOTES-Stan+20Horton-+20Chairman+20and+20CEO+20of+20Enron+20Global+20Services+40ENRON@ENRON.com>',\n",
       "    1,\n",
       "    False),\n",
       "   ('Richards', 1, False)]}}"
      ]
     },
     "execution_count": 275,
     "metadata": {},
     "output_type": "execute_result"
    }
   ],
   "source": [
    "vars(resp.facets)"
   ]
  },
  {
   "cell_type": "code",
   "execution_count": 283,
   "metadata": {},
   "outputs": [
    {
     "name": "stdout",
     "output_type": "stream",
     "text": [
      "total hits eq 46\n",
      "6.2172685 Scaled-back Alaskan pipeline proposal in works\n",
      "5.500802 Organization Changes\n",
      "5.1720777 Northern Natural Gas\n",
      "4.3007917 Williams Energy News Live -- today's video newscast\n",
      "3.9822066 Williams Energy News Live -- today's video newscast\n",
      "3.758673 Shedding light on power prices\n",
      "3.65606 Williams Energy News Live -- today's video newscast\n",
      "3.5589008 Tabled, canceled project numbers climbing\n",
      "3.2581546 GREAT ROTATION OPPORTUNITY IN EBS ORIGINATION AMERICAS\n",
      "3.2581546 Enron Update\n",
      "::::NER Tags:::\n",
      "CARDINAL : 46\n",
      "DATE : 46\n",
      "ORG : 46\n",
      "PERSON : 44\n",
      "GPE : 40\n",
      "MONEY : 35\n",
      "NORP : 26\n",
      "LOC : 23\n",
      "PERCENT : 23\n",
      "PRODUCT : 21\n",
      "::::Message Sent:::\n",
      "2001-09-01 00:00:00 : 5\n",
      "2001-10-01 00:00:00 : 9\n",
      "2001-11-01 00:00:00 : 8\n",
      "2001-12-01 00:00:00 : 5\n",
      "2002-01-01 00:00:00 : 17\n",
      "2002-02-01 00:00:00 : 2\n",
      "::::Folder:::\n",
      "/Top of Personal Folders/saibi-e/ESAIBI (Non-Privileged)/Saibi, Eric/Inbox : 22\n",
      "/Top of Personal Folders/saibi-e/ExMerge - Saibi, Eric/Inbox : 21\n",
      "/Top of Personal Folders/saibi-e/Eric_Saibi_Jan2002/Saibi, Eric/Deleted Items : 1\n",
      "/Top of Personal Folders/saibi-e/Eric_Saibi_Jan2002/Saibi, Eric/Inbox : 1\n",
      "/Top of Personal Folders/saibi-e/ExMerge - Saibi, Eric/Sent Items : 1\n",
      "::::Sender:::\n",
      "\"Jay Rickerts eCenter@williams.com@ENRON\" <IMCEANOTES-Jay+20Rickerts+20+3CeCenter+40williams+2Ecom+3E+40ENRON@ENRON.com> : 15\n",
      "\"Energy Insight Editor EI_editor@FTENERGY.COM@ENRON\" <IMCEANOTES-Energy+20Insight+20Editor+20+3CEI+5Feditor+40FTENERGY+2ECOM+3E+40ENRON@ENRON.com> : 9\n",
      "\"Energy Insight Editor EI_editor@PLATTS.COM@ENRON\" <IMCEANOTES-Energy+20Insight+20Editor+20+3CEI+5Feditor+40PLATTS+2ECOM+3E+40ENRON@ENRON.com> : 9\n",
      "\"Enron Office Of The Chairman\" <mbx_OfficeChairman@ENRON.com> : 3\n",
      "\"energybulletin@PLATTS.COM@ENRON\" <IMCEANOTES-energybulletin+40PLATTS+2ECOM+40ENRON@ENRON.com> : 3\n",
      "\"Ken Lay- Chairman of the Board@ENRON\" <IMCEANOTES-Ken+20Lay-+20Chairman+20of+20the+20Board+40ENRON@ENRON.com> : 2\n",
      "\"Ken Lay - Office of the Chairman\" <mbx_klayofficechair@ENRON.com> : 1\n",
      "\"Ken Lay-@ENRON\" <IMCEANOTES-Ken+20Lay-+40ENRON@ENRON.com> : 1\n",
      "\"Stan Horton- Chairman and CEO of Enron Global Services@ENRON\" <IMCEANOTES-Stan+20Horton-+20Chairman+20and+20CEO+20of+20Enron+20Global+20Services+40ENRON@ENRON.com> : 1\n",
      "Richards : 1\n"
     ]
    }
   ],
   "source": [
    "# access hits and other attributes as usual\n",
    "total = response.hits.total\n",
    "print('total hits', total.relation, total.value)\n",
    "for hit in resp:\n",
    "    print(hit.meta.score, hit.msg_subject)\n",
    "\n",
    "for facet in resp.facets:\n",
    "    print(f\"::::{facet}:::\")\n",
    "    for (tag, count, selected) in resp.facets[facet]:\n",
    "        print(tag, ' (SELECTED):' if selected else ':', count)"
   ]
  },
  {
   "cell_type": "code",
   "execution_count": 284,
   "metadata": {},
   "outputs": [
    {
     "data": {
      "text/plain": [
       "{'value': 46, 'relation': 'eq'}"
      ]
     },
     "execution_count": 284,
     "metadata": {},
     "output_type": "execute_result"
    }
   ],
   "source": [
    "resp.hits.total"
   ]
  },
  {
   "cell_type": "code",
   "execution_count": 285,
   "metadata": {},
   "outputs": [],
   "source": [
    "h1 = resp.hits[0]"
   ]
  },
  {
   "cell_type": "code",
   "execution_count": 286,
   "metadata": {},
   "outputs": [
    {
     "data": {
      "text/plain": [
       "MessageDocument(index='message', id='102')"
      ]
     },
     "execution_count": 286,
     "metadata": {},
     "output_type": "execute_result"
    }
   ],
   "source": [
    "h1"
   ]
  },
  {
   "cell_type": "code",
   "execution_count": 288,
   "metadata": {},
   "outputs": [
    {
     "data": {
      "text/plain": [
       "{'meta': {'index': 'message', 'id': '102', 'score': 6.2172685, 'highl...},\n",
       " '_d_': {'_related_instance_to_ignore': None,\n",
       "  'collection': {'title': 'eric_saibi', 'accession_date': datetime.datetime(...},\n",
       "  'labels': ['PERSON',\n",
       "   'PRODUCT',\n",
       "   'PERCENT',\n",
       "   'CARDINAL',\n",
       "   'ORG',\n",
       "   'NORP',\n",
       "   'MONEY',\n",
       "   'FAC',\n",
       "   'GPE',\n",
       "   'LOC',\n",
       "   'DATE'],\n",
       "  'msg_from': '\"Energy Insight Editor EI_editor@PLATTS.COM@ENRON\" <IMCEANOTES-Energy+20Insight+20Editor+20+3CEI+5Feditor+40PLATTS+2ECOM+3E+40ENRON@ENRON.com>',\n",
       "  'directory': '/Top of Personal Folders/saibi-e/ExMerge - Saibi, Eric/Inbox',\n",
       "  'msg_subject': 'Scaled-back Alaskan pipeline proposal in works',\n",
       "  'msg_body': 'Body-Type: plain-text\\r\\n\\r\\nEnergy Insight \\r\\n\\t\\r\\n\\r\\n\\r\\n                        \\t                       Updated: Jan. 3, 2002                               [IMAGE]Scaled-back Alaskan pipeline proposal in works  With prospects for a gas pipeline from Alaska\\'s North Slope looking shakier by the month, Foothills Pipe Lines is about to unveil a scaled-down version of the proposed Alaska Highway project that it hopes will win the approval of both regulators...                                                                                                                                                                                                                                [IMAGE]A hard act to follow: the future for energy without Enron Corporation\\'s fall creates leadership void  Failure will affect deregulation debate                                                          [IMAGE]Shedding light on power prices EU study shows end of price transparency  Denmark residential customers pay more  VAT impacts prices                                                          [IMAGE]European power prices skyrocket Spark spreads puzzle coal producers  Germany feels the pinch  Stockpiles high, demand low                                                 PacifiCorp halts pursuit of Priest Rapids competitive license bid [IMAGE]full story...  Williams buys NGL pipeline [IMAGE]full story...  Switzerland adopts energy efficiency labeling [IMAGE]full story...  Two U.S. senators announce Enron probe [IMAGE]full story...  Paper mill sues TVA to recover $25 million [IMAGE]full story...  Mirant drops deal to buy half of Puerto Rican unit [IMAGE]full story...  Argentine gas trading goes on despite fiscal crisis [IMAGE]full story...  California retail gasoline prices at three-year lows [IMAGE]full story...  Lay, Skilling involved in forming partnerships, documents show [IMAGE]full story...  Crude prices could fall because OPEC cuts may not occur [IMAGE]full story...  [IMAGE]To view all of today\\'s Executive News headlines, [IMAGE]click here                              Copyright © 2001 - Platts, All Rights Reserved      Market Brief   Wednesday, January 2 (Changes from 12/28) Stocks Close Change  % Change  DJIA 10,073.40 (63.6) -0.63% DJ 15 Util. 297.74 3.2  1.10% NASDAQ 1,979.25 (8.02) -0.40% S&P 500 1,148.08 (12.9) -1.11%     Market Vols Close Change % Change AMEX (000) 130,955 28,748.0  28.13% NASDAQ (000) 1,512,183 189,403.0  14.32% NYSE (000) 1,179,897 274,803.0  30.36%     Commodities Close Change % Change Crude Oil (Feb) 21.1 0.69  3.38% Heating Oil (Jan) 0.5507 (0.016) -2.79% Nat. Gas (Henry) 2.555 0.000  0.00% Propane (Jan) 32.60 (1.40) -4.12% Palo Verde (Feb) 24.75 0.00  0.00% COB (Feb) 24.75 0.00  0.00% PJM (Feb) 30.00 0.00  0.00%     Dollar US $ Close Change % Change Australia $  1.942 (0.017) -0.87% Canada $   1.60 0.005  0.31% Germany Dmark  2.17 (0.048) -2.17% Euro   0.9036 0.020  2.25% Japan ¥en  132.2 1.200  0.92% Mexico NP 9.1 (0.080) -0.87% UK Pound   0.6923 0.0023  0.33%     Foreign Indices Close Change % Change Arg MerVal 323.69 28.30  9.58% Austr All Ord. 3,383.10 19.30  0.57% Braz Bovespa 13872.09 294.52  2.17% Can TSE 300  7646.79 (28.21) -0.37% Germany DAX 5167.88 7.78  0.15% HK HangSeng 11350.85 (80.74) -0.71% Japan Nikkei 225  10542.62 0.00  0.00% Mexico IPC  6410.05 6371.84  -0.88% UK FTSE 100 5,218.30 29.20  0.56%       Source:  Yahoo!, TradingDay.com and NYMEX.com   \\t                                \\t  \\t\\r\\n\\r\\n\\r\\n\\r\\n - Market briefs.xls \\r\\n - bug_black.gif \\r\\n\\r\\n***********\\r\\nEDRM Enron Email Data Set has been produced in EML, PST and NSF format by ZL Technologies, Inc. This Data Set is licensed under a Creative Commons Attribution 3.0 United States License <http://creativecommons.org/licenses/by/3.0/us/> . To provide attribution, please cite to \"ZL Technologies, Inc. (http://www.zlti.com).\"\\r\\n***********',\n",
       "  'sent_date': datetime.datetime(2002, 1, 3, 8, 32, 30, tzinfo=tzutc())},\n",
       " '_prepared_fields': [('collection',\n",
       "   ObjectField(),\n",
       "   functools.partial(<bound method ObjectField.get_value_from_instance of ObjectField()>, field_value_to_ignore=None)),\n",
       "  ('labels',\n",
       "   KeywordField(),\n",
       "   <bound method MessageDocument.prepare_labels of MessageDocument(index='message', id='102')>),\n",
       "  ('msg_from',\n",
       "   TextField(),\n",
       "   functools.partial(<bound method DEDField.get_value_from_instance of TextField()>, field_value_to_ignore=None)),\n",
       "  ('msg_subject',\n",
       "   TextField(),\n",
       "   functools.partial(<bound method DEDField.get_value_from_instance of TextField()>, field_value_to_ignore=None)),\n",
       "  ('msg_body',\n",
       "   TextField(),\n",
       "   functools.partial(<bound method DEDField.get_value_from_instance of TextField()>, field_value_to_ignore=None)),\n",
       "  ('directory',\n",
       "   TextField(),\n",
       "   functools.partial(<bound method DEDField.get_value_from_instance of TextField()>, field_value_to_ignore=None)),\n",
       "  ('sent_date',\n",
       "   DateField(),\n",
       "   functools.partial(<bound method DEDField.get_value_from_instance of DateField()>, field_value_to_ignore=None))]}"
      ]
     },
     "execution_count": 288,
     "metadata": {},
     "output_type": "execute_result"
    }
   ],
   "source": [
    "h1.__dict__"
   ]
  },
  {
   "cell_type": "code",
   "execution_count": 123,
   "metadata": {},
   "outputs": [
    {
     "data": {
      "text/plain": [
       "'/Top of Personal Folders/symes-k/kate symes 6-27-02/Notes Folders/Discussion threads'"
      ]
     },
     "execution_count": 123,
     "metadata": {},
     "output_type": "execute_result"
    }
   ],
   "source": [
    "h1.directory"
   ]
  }
 ],
 "metadata": {
  "kernelspec": {
   "display_name": "Python 3",
   "language": "python",
   "name": "python3"
  },
  "language_info": {
   "codemirror_mode": {
    "name": "ipython",
    "version": 3
   },
   "file_extension": ".py",
   "mimetype": "text/x-python",
   "name": "python",
   "nbconvert_exporter": "python",
   "pygments_lexer": "ipython3",
   "version": "3.7.5"
  }
 },
 "nbformat": 4,
 "nbformat_minor": 4
}
