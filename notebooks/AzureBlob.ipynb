{
 "cells": [
  {
   "cell_type": "code",
   "execution_count": 1,
   "metadata": {},
   "outputs": [],
   "source": [
    "# Setup Notebook to load Django code\n",
    "# From project root, run: jupyter-lab\n",
    "\n",
    "import os\n",
    "import sys\n",
    "from pathlib import Path\n",
    "\n",
    "django_project_dir = Path('../')\n",
    "sys.path.insert(0, str(django_project_dir))\n",
    "os.environ.setdefault(\"DJANGO_SETTINGS_MODULE\", \"ratom.settings.local\")\n",
    "\n",
    "import django\n",
    "django.setup()"
   ]
  },
  {
   "cell_type": "code",
   "execution_count": 2,
   "metadata": {},
   "outputs": [],
   "source": [
    "from azure.storage.blob import BlobServiceClient"
   ]
  },
  {
   "cell_type": "code",
   "execution_count": 3,
   "metadata": {},
   "outputs": [],
   "source": [
    "key = \"AuN9T1GBBvQCZA5eM0V3He+pIa05KXZovHmjxZvt8seIEj56bEK88xR22JbHPso2M6AsXuq1dOmuHyTRpRD1uQ==\""
   ]
  },
  {
   "cell_type": "code",
   "execution_count": 4,
   "metadata": {},
   "outputs": [],
   "source": [
    "service = BlobServiceClient(account_url=\"ratomstaging.blob.core.windows.net\", credential=key)"
   ]
  },
  {
   "cell_type": "code",
   "execution_count": 5,
   "metadata": {},
   "outputs": [
    {
     "data": {
      "text/plain": [
       "<azure.storage.blob._blob_service_client.BlobServiceClient at 0x7eff12e8f1d0>"
      ]
     },
     "execution_count": 5,
     "metadata": {},
     "output_type": "execute_result"
    }
   ],
   "source": [
    "service"
   ]
  },
  {
   "cell_type": "code",
   "execution_count": 6,
   "metadata": {},
   "outputs": [],
   "source": [
    "client = service.get_container_client(\"a-public-container\")"
   ]
  },
  {
   "cell_type": "code",
   "execution_count": 7,
   "metadata": {},
   "outputs": [
    {
     "data": {
      "text/plain": [
       "<iterator object azure.core.paging.ItemPaged at 0x7eff0615a610>"
      ]
     },
     "execution_count": 7,
     "metadata": {},
     "output_type": "execute_result"
    }
   ],
   "source": [
    "client.list_blobs()"
   ]
  },
  {
   "cell_type": "code",
   "execution_count": 8,
   "metadata": {},
   "outputs": [
    {
     "name": "stderr",
     "output_type": "stream",
     "text": [
      "2020-02-03 08:29:18,054 azure.core.pipeline.policies.http_logging_policy INFO     Request URL: 'https://ratomstaging.blob.core.windows.net/a-public-container?restype=REDACTED&comp=REDACTED'\n",
      "2020-02-03 08:29:18,060 azure.core.pipeline.policies.http_logging_policy INFO     Request method: 'GET'\n",
      "2020-02-03 08:29:18,061 azure.core.pipeline.policies.http_logging_policy INFO     Request headers:\n",
      "2020-02-03 08:29:18,062 azure.core.pipeline.policies.http_logging_policy INFO         'Accept': 'application/xml'\n",
      "2020-02-03 08:29:18,064 azure.core.pipeline.policies.http_logging_policy INFO         'x-ms-version': 'REDACTED'\n",
      "2020-02-03 08:29:18,065 azure.core.pipeline.policies.http_logging_policy INFO         'x-ms-date': 'REDACTED'\n",
      "2020-02-03 08:29:18,066 azure.core.pipeline.policies.http_logging_policy INFO         'x-ms-client-request-id': '2dc2ee10-4689-11ea-b7b7-185e0fed528d'\n",
      "2020-02-03 08:29:18,068 azure.core.pipeline.policies.http_logging_policy INFO         'User-Agent': 'azsdk-python-storage-blob/12.1.0 Python/3.7.5 (Linux-5.3.0-26-generic-x86_64-with-Ubuntu-18.04-bionic)'\n",
      "2020-02-03 08:29:18,069 azure.core.pipeline.policies.http_logging_policy INFO         'Authorization': 'REDACTED'\n",
      "2020-02-03 08:29:18,301 azure.core.pipeline.policies.http_logging_policy INFO     Response status: 200\n",
      "2020-02-03 08:29:18,302 azure.core.pipeline.policies.http_logging_policy INFO     Response headers:\n",
      "2020-02-03 08:29:18,303 azure.core.pipeline.policies.http_logging_policy INFO         'Transfer-Encoding': 'chunked'\n",
      "2020-02-03 08:29:18,303 azure.core.pipeline.policies.http_logging_policy INFO         'Content-Type': 'application/xml'\n",
      "2020-02-03 08:29:18,305 azure.core.pipeline.policies.http_logging_policy INFO         'Server': 'Windows-Azure-Blob/1.0 Microsoft-HTTPAPI/2.0'\n",
      "2020-02-03 08:29:18,306 azure.core.pipeline.policies.http_logging_policy INFO         'x-ms-request-id': 'REDACTED'\n",
      "2020-02-03 08:29:18,307 azure.core.pipeline.policies.http_logging_policy INFO         'x-ms-client-request-id': '2dc2ee10-4689-11ea-b7b7-185e0fed528d'\n",
      "2020-02-03 08:29:18,309 azure.core.pipeline.policies.http_logging_policy INFO         'x-ms-version': 'REDACTED'\n",
      "2020-02-03 08:29:18,311 azure.core.pipeline.policies.http_logging_policy INFO         'Date': 'Mon, 03 Feb 2020 13:29:17 GMT'\n"
     ]
    },
    {
     "name": "stdout",
     "output_type": "stream",
     "text": [
      "bill_rapp_000_1_1.pst\n"
     ]
    }
   ],
   "source": [
    "for b in client.list_blobs():"
   ]
  },
  {
   "cell_type": "code",
   "execution_count": 16,
   "metadata": {},
   "outputs": [
    {
     "name": "stderr",
     "output_type": "stream",
     "text": [
      "2020-01-30 15:02:17,560 azure.core.pipeline.policies.http_logging_policy INFO     Request URL: 'https://ratomstaging.blob.core.windows.net/a-public-container/bill_rapp_000_1_1.pst'\n",
      "2020-01-30 15:02:17,562 azure.core.pipeline.policies.http_logging_policy INFO     Request method: 'GET'\n",
      "2020-01-30 15:02:17,564 azure.core.pipeline.policies.http_logging_policy INFO     Request headers:\n",
      "2020-01-30 15:02:17,565 azure.core.pipeline.policies.http_logging_policy INFO         'Accept': 'application/xml'\n",
      "2020-01-30 15:02:17,566 azure.core.pipeline.policies.http_logging_policy INFO         'x-ms-range': 'REDACTED'\n",
      "2020-01-30 15:02:17,567 azure.core.pipeline.policies.http_logging_policy INFO         'x-ms-version': 'REDACTED'\n",
      "2020-01-30 15:02:17,569 azure.core.pipeline.policies.http_logging_policy INFO         'x-ms-date': 'REDACTED'\n",
      "2020-01-30 15:02:17,570 azure.core.pipeline.policies.http_logging_policy INFO         'x-ms-client-request-id': '6a98b3a6-439b-11ea-b82f-185e0fed528d'\n",
      "2020-01-30 15:02:17,571 azure.core.pipeline.policies.http_logging_policy INFO         'User-Agent': 'azsdk-python-storage-blob/12.1.0 Python/3.7.5 (Linux-5.3.0-26-generic-x86_64-with-Ubuntu-18.04-bionic)'\n",
      "2020-01-30 15:02:17,572 azure.core.pipeline.policies.http_logging_policy INFO         'Authorization': 'REDACTED'\n",
      "2020-01-30 15:02:21,629 azure.core.pipeline.policies.http_logging_policy INFO     Response status: 206\n",
      "2020-01-30 15:02:21,630 azure.core.pipeline.policies.http_logging_policy INFO     Response headers:\n",
      "2020-01-30 15:02:21,631 azure.core.pipeline.policies.http_logging_policy INFO         'Content-Length': '15508480'\n",
      "2020-01-30 15:02:21,632 azure.core.pipeline.policies.http_logging_policy INFO         'Content-Type': 'application/octet-stream'\n",
      "2020-01-30 15:02:21,632 azure.core.pipeline.policies.http_logging_policy INFO         'Content-Range': 'REDACTED'\n",
      "2020-01-30 15:02:21,633 azure.core.pipeline.policies.http_logging_policy INFO         'Last-Modified': 'Thu, 30 Jan 2020 15:51:19 GMT'\n",
      "2020-01-30 15:02:21,633 azure.core.pipeline.policies.http_logging_policy INFO         'Accept-Ranges': 'REDACTED'\n",
      "2020-01-30 15:02:21,634 azure.core.pipeline.policies.http_logging_policy INFO         'ETag': '\"0x8D7A59C3FBAD407\"'\n",
      "2020-01-30 15:02:21,635 azure.core.pipeline.policies.http_logging_policy INFO         'Server': 'Windows-Azure-Blob/1.0 Microsoft-HTTPAPI/2.0'\n",
      "2020-01-30 15:02:21,636 azure.core.pipeline.policies.http_logging_policy INFO         'x-ms-request-id': 'REDACTED'\n",
      "2020-01-30 15:02:21,637 azure.core.pipeline.policies.http_logging_policy INFO         'x-ms-client-request-id': '6a98b3a6-439b-11ea-b82f-185e0fed528d'\n",
      "2020-01-30 15:02:21,638 azure.core.pipeline.policies.http_logging_policy INFO         'x-ms-version': 'REDACTED'\n",
      "2020-01-30 15:02:21,639 azure.core.pipeline.policies.http_logging_policy INFO         'x-ms-creation-time': 'REDACTED'\n",
      "2020-01-30 15:02:21,640 azure.core.pipeline.policies.http_logging_policy INFO         'x-ms-blob-content-md5': 'REDACTED'\n",
      "2020-01-30 15:02:21,641 azure.core.pipeline.policies.http_logging_policy INFO         'x-ms-lease-status': 'REDACTED'\n",
      "2020-01-30 15:02:21,642 azure.core.pipeline.policies.http_logging_policy INFO         'x-ms-lease-state': 'REDACTED'\n",
      "2020-01-30 15:02:21,644 azure.core.pipeline.policies.http_logging_policy INFO         'x-ms-blob-type': 'REDACTED'\n",
      "2020-01-30 15:02:21,646 azure.core.pipeline.policies.http_logging_policy INFO         'Content-Disposition': 'REDACTED'\n",
      "2020-01-30 15:02:21,647 azure.core.pipeline.policies.http_logging_policy INFO         'x-ms-server-encrypted': 'REDACTED'\n",
      "2020-01-30 15:02:21,649 azure.core.pipeline.policies.http_logging_policy INFO         'Date': 'Thu, 30 Jan 2020 20:02:21 GMT'\n"
     ]
    },
    {
     "name": "stdout",
     "output_type": "stream",
     "text": [
      "Done!\n"
     ]
    }
   ],
   "source": [
    "with open(f'./{b.name}', \"wb\") as fh:\n",
    "    bdata = client.download_blob(b)\n",
    "    bdata.readinto(fh)\n",
    "print(\"Done!\")"
   ]
  },
  {
   "cell_type": "code",
   "execution_count": null,
   "metadata": {},
   "outputs": [],
   "source": []
  }
 ],
 "metadata": {
  "kernelspec": {
   "display_name": "Django Shell-Plus",
   "language": "python",
   "name": "django_extensions"
  },
  "language_info": {
   "codemirror_mode": {
    "name": "ipython",
    "version": 3
   },
   "file_extension": ".py",
   "mimetype": "text/x-python",
   "name": "python",
   "nbconvert_exporter": "python",
   "pygments_lexer": "ipython3",
   "version": "3.7.5"
  }
 },
 "nbformat": 4,
 "nbformat_minor": 4
}
