{
 "cells": [
  {
   "cell_type": "code",
   "execution_count": 1,
   "metadata": {},
   "outputs": [],
   "source": [
    "# Setup Notebook to load Django code\n",
    "# From project root, run: jupyter-lab\n",
    "\n",
    "import os\n",
    "import sys\n",
    "from pathlib import Path\n",
    "\n",
    "django_project_dir = Path('../')\n",
    "sys.path.insert(0, str(django_project_dir))\n",
    "os.environ.setdefault(\"DJANGO_SETTINGS_MODULE\", \"ratom_api.settings.local\")\n",
    "\n",
    "import django\n",
    "django.setup()"
   ]
  },
  {
   "cell_type": "code",
   "execution_count": 2,
   "metadata": {},
   "outputs": [],
   "source": [
    "import pandas as pd\n",
    "\n",
    "from elasticsearch_dsl import Q, FacetedSearch, TermsFacet, DateHistogramFacet\n",
    "\n",
    "from ratom.documents import MessageDocument"
   ]
  },
  {
   "cell_type": "markdown",
   "metadata": {},
   "source": [
    "# Start elasticsearch"
   ]
  },
  {
   "cell_type": "code",
   "execution_count": 3,
   "metadata": {},
   "outputs": [
    {
     "name": "stdout",
     "output_type": "stream",
     "text": [
      "Starting kibana ... \n",
      "Starting elasticsearch ... \n",
      "\u001b[2Bting kibana        ... \u001b[32mdone\u001b[0m\u001b[2A\u001b[2K"
     ]
    }
   ],
   "source": [
    "! docker-compose up -d elasticsearch kibana"
   ]
  },
  {
   "cell_type": "code",
   "execution_count": 4,
   "metadata": {},
   "outputs": [
    {
     "name": "stdout",
     "output_type": "stream",
     "text": [
      "    Name                  Command             State             Ports           \n",
      "--------------------------------------------------------------------------------\n",
      "elasticsearch   /usr/local/bin/docker-entr    Up      0.0.0.0:9200->9200/tcp,   \n",
      "                ...                                   0.0.0.0:9300->9300/tcp    \n",
      "kibana          /usr/local/bin/dumb-init -    Up      0.0.0.0:5601->5601/tcp    \n",
      "                ...                                                             \n"
     ]
    }
   ],
   "source": [
    "! docker-compose ps"
   ]
  },
  {
   "cell_type": "markdown",
   "metadata": {},
   "source": [
    "elasticsearch should be running at: http://localhost:9200/"
   ]
  },
  {
   "cell_type": "code",
   "execution_count": null,
   "metadata": {},
   "outputs": [],
   "source": [
    "# If it doesn't start.. look at logs:\n",
    "\n",
    "! docker-compose logs elasticsearch"
   ]
  },
  {
   "cell_type": "markdown",
   "metadata": {},
   "source": [
    "## Re-build index\n",
    "\n",
    "https://django-elasticsearch-dsl.readthedocs.io/en/latest/quickstart.html#populate"
   ]
  },
  {
   "cell_type": "code",
   "execution_count": 1,
   "metadata": {},
   "outputs": [
    {
     "name": "stdout",
     "output_type": "stream",
     "text": [
      "the JSON object must be str, bytes or bytearray, not dict\n",
      "\n",
      "real\t0m1.589s\n",
      "user\t0m0.866s\n",
      "sys\t0m0.321s\n"
     ]
    }
   ],
   "source": [
    "! time python ../manage.py search_index -f --rebuild --parallel"
   ]
  },
  {
   "cell_type": "markdown",
   "metadata": {},
   "source": [
    "# Match"
   ]
  },
  {
   "cell_type": "code",
   "execution_count": 4,
   "metadata": {},
   "outputs": [
    {
     "data": {
      "text/plain": [
       "<django_elasticsearch_dsl.search.Search at 0x11f88fc50>"
      ]
     },
     "execution_count": 4,
     "metadata": {},
     "output_type": "execute_result"
    }
   ],
   "source": [
    "# https://django-elasticsearch-dsl.readthedocs.io/en/latest/quickstart.html#search\n",
    "\n",
    "search = MessageDocument.search().filter(\"match\", msg_subject=\"help\")\n",
    "search"
   ]
  },
  {
   "cell_type": "markdown",
   "metadata": {},
   "source": [
    "## Count"
   ]
  },
  {
   "cell_type": "code",
   "execution_count": 5,
   "metadata": {},
   "outputs": [
    {
     "name": "stderr",
     "output_type": "stream",
     "text": [
      "2019-12-02 09:27:43,365 elasticsearch        INFO     GET http://localhost:9200/message/_count [status:200 request:0.014s]\n"
     ]
    },
    {
     "data": {
      "text/plain": [
       "90"
      ]
     },
     "execution_count": 5,
     "metadata": {},
     "output_type": "execute_result"
    }
   ],
   "source": [
    "search.count()"
   ]
  },
  {
   "cell_type": "code",
   "execution_count": 6,
   "metadata": {},
   "outputs": [
    {
     "name": "stderr",
     "output_type": "stream",
     "text": [
      "2019-12-02 09:27:44,405 elasticsearch        INFO     GET http://localhost:9200/message/_search [status:200 request:0.014s]\n"
     ]
    }
   ],
   "source": [
    "response = search.execute()"
   ]
  },
  {
   "cell_type": "code",
   "execution_count": 7,
   "metadata": {},
   "outputs": [
    {
     "data": {
      "text/plain": [
       "{'value': 90, 'relation': 'eq'}"
      ]
     },
     "execution_count": 7,
     "metadata": {},
     "output_type": "execute_result"
    }
   ],
   "source": [
    "# how is this different from search.count()?\n",
    "response.hits.total"
   ]
  },
  {
   "cell_type": "code",
   "execution_count": 8,
   "metadata": {},
   "outputs": [
    {
     "data": {
      "text/plain": [
       "10"
      ]
     },
     "execution_count": 8,
     "metadata": {},
     "output_type": "execute_result"
    }
   ],
   "source": [
    "response.took"
   ]
  },
  {
   "cell_type": "markdown",
   "metadata": {},
   "source": [
    "## Response"
   ]
  },
  {
   "cell_type": "code",
   "execution_count": 9,
   "metadata": {},
   "outputs": [
    {
     "name": "stdout",
     "output_type": "stream",
     "text": [
      "\"Help Millions\" - Pledge Today!\n",
      "Help with statistical analysis\n",
      "Thanks for your help!!\n",
      "FW: HELP!!! I'VE FAINTED AND I CAN'T COME TO!!!!!\n",
      "\"Help Millions\" - Pledge Today!\n",
      "Help on cluster analysis\n",
      "Re: Info help.\n",
      "Help on DPC LNG Options\n",
      "Fwd: Please, help\n",
      "Help with the Tiger Team\n"
     ]
    }
   ],
   "source": [
    "# simple using response\n",
    "for msg in response[:10]:\n",
    "    print(msg.msg_subject)"
   ]
  },
  {
   "cell_type": "code",
   "execution_count": 10,
   "metadata": {},
   "outputs": [
    {
     "name": "stderr",
     "output_type": "stream",
     "text": [
      "2019-12-02 09:27:52,557 elasticsearch        INFO     GET http://localhost:9200/message/_search [status:200 request:0.005s]\n"
     ]
    },
    {
     "data": {
      "text/html": [
       "<div>\n",
       "<style scoped>\n",
       "    .dataframe tbody tr th:only-of-type {\n",
       "        vertical-align: middle;\n",
       "    }\n",
       "\n",
       "    .dataframe tbody tr th {\n",
       "        vertical-align: top;\n",
       "    }\n",
       "\n",
       "    .dataframe thead th {\n",
       "        text-align: right;\n",
       "    }\n",
       "</style>\n",
       "<table border=\"1\" class=\"dataframe\">\n",
       "  <thead>\n",
       "    <tr style=\"text-align: right;\">\n",
       "      <th></th>\n",
       "      <th>collection</th>\n",
       "      <th>msg_from</th>\n",
       "      <th>msg_subject</th>\n",
       "      <th>msg_body</th>\n",
       "      <th>directory</th>\n",
       "    </tr>\n",
       "  </thead>\n",
       "  <tbody>\n",
       "    <tr>\n",
       "      <th>0</th>\n",
       "      <td>{'title': 'vkaminski', 'accession_date': 2019-...</td>\n",
       "      <td>\"Zulie Flores\"</td>\n",
       "      <td>\"Help Millions\" - Pledge Today!</td>\n",
       "      <td>date: Fri, 4 Aug 2000 16:08:00 -0700 (PDT) Fri...</td>\n",
       "      <td>/Top of Personal Folders/test/Vincent_Kaminski...</td>\n",
       "    </tr>\n",
       "    <tr>\n",
       "      <th>1</th>\n",
       "      <td>{'title': 'vkaminski', 'accession_date': 2019-...</td>\n",
       "      <td>\"Vince J Kaminski\"</td>\n",
       "      <td>Help with statistical analysis</td>\n",
       "      <td>Date: Thu, 20 Apr 2000 08:05:00 -0700 (PDT),Th...</td>\n",
       "      <td>/Top of Personal Folders/test/Vincent_Kaminski...</td>\n",
       "    </tr>\n",
       "    <tr>\n",
       "      <th>2</th>\n",
       "      <td>{'title': 'vkaminski', 'accession_date': 2019-...</td>\n",
       "      <td>\"Bridget D'Silva\"</td>\n",
       "      <td>Thanks for your help!!</td>\n",
       "      <td>Date: Fri, 11 Feb 2000 15:05:00 -0800 (PST),Fr...</td>\n",
       "      <td>/Top of Personal Folders/test/Vincent_Kaminski...</td>\n",
       "    </tr>\n",
       "    <tr>\n",
       "      <th>3</th>\n",
       "      <td>{'title': 'dana_davis', 'accession_date': 2019...</td>\n",
       "      <td>Davis</td>\n",
       "      <td>FW: HELP!!! I'VE FAINTED AND I CAN'T COME TO!!!!!</td>\n",
       "      <td>Date: Mon, 8 Oct 2001 21:57:25 -0700 (PDT),Mon...</td>\n",
       "      <td>/Top of Personal Folders/davis-d/DDAVIS (Non-P...</td>\n",
       "    </tr>\n",
       "    <tr>\n",
       "      <th>4</th>\n",
       "      <td>{'title': 'vkaminski', 'accession_date': 2019-...</td>\n",
       "      <td>\"Zulie Flores\"</td>\n",
       "      <td>\"Help Millions\" - Pledge Today!</td>\n",
       "      <td>date: Fri, 4 Aug 2000 16:08:00 -0700 (PDT) Fri...</td>\n",
       "      <td>/Top of Personal Folders/kaminski-v/Vincent_Ka...</td>\n",
       "    </tr>\n",
       "    <tr>\n",
       "      <th>5</th>\n",
       "      <td>{'title': 'vkaminski', 'accession_date': 2019-...</td>\n",
       "      <td>\"Lance Cunningham\"</td>\n",
       "      <td>Help on cluster analysis</td>\n",
       "      <td>date: Thu, 22 Mar 2001 14:45:00 -0800 (PST) Th...</td>\n",
       "      <td>/Top of Personal Folders/kaminski-v/Vincent_Ka...</td>\n",
       "    </tr>\n",
       "    <tr>\n",
       "      <th>6</th>\n",
       "      <td>{'title': 'vkaminski', 'accession_date': 2019-...</td>\n",
       "      <td>\"Vince J Kaminski\"</td>\n",
       "      <td>Re: Info help.</td>\n",
       "      <td>date: Tue, 15 Aug 2000 17:51:00 -0700 (PDT) Tu...</td>\n",
       "      <td>/Top of Personal Folders/kaminski-v/Vincent_Ka...</td>\n",
       "    </tr>\n",
       "    <tr>\n",
       "      <th>7</th>\n",
       "      <td>{'title': 'vkaminski', 'accession_date': 2019-...</td>\n",
       "      <td>\"Vince J Kaminski\"</td>\n",
       "      <td>Help on DPC LNG Options</td>\n",
       "      <td>date: Mon, 12 Mar 2001 17:07:00 -0800 (PST) Mo...</td>\n",
       "      <td>/Top of Personal Folders/kaminski-v/Vincent_Ka...</td>\n",
       "    </tr>\n",
       "    <tr>\n",
       "      <th>8</th>\n",
       "      <td>{'title': 'vkaminski', 'accession_date': 2019-...</td>\n",
       "      <td>VKaminski@aol.com</td>\n",
       "      <td>Fwd: Please, help</td>\n",
       "      <td>date: Mon, 9 Apr 2001 23:12:00 -0700 (PDT) Mon...</td>\n",
       "      <td>/Top of Personal Folders/kaminski-v/Vincent_Ka...</td>\n",
       "    </tr>\n",
       "    <tr>\n",
       "      <th>9</th>\n",
       "      <td>{'title': 'vkaminski', 'accession_date': 2019-...</td>\n",
       "      <td>\"Vince J Kaminski\"</td>\n",
       "      <td>Help with the Tiger Team</td>\n",
       "      <td>Date: Thu, 11 Jan 2001 09:51:00 -0800 (PST),Th...</td>\n",
       "      <td>/Top of Personal Folders/kaminski-v/Vincent_Ka...</td>\n",
       "    </tr>\n",
       "  </tbody>\n",
       "</table>\n",
       "</div>"
      ],
      "text/plain": [
       "                                          collection            msg_from  \\\n",
       "0  {'title': 'vkaminski', 'accession_date': 2019-...      \"Zulie Flores\"   \n",
       "1  {'title': 'vkaminski', 'accession_date': 2019-...  \"Vince J Kaminski\"   \n",
       "2  {'title': 'vkaminski', 'accession_date': 2019-...   \"Bridget D'Silva\"   \n",
       "3  {'title': 'dana_davis', 'accession_date': 2019...               Davis   \n",
       "4  {'title': 'vkaminski', 'accession_date': 2019-...      \"Zulie Flores\"   \n",
       "5  {'title': 'vkaminski', 'accession_date': 2019-...  \"Lance Cunningham\"   \n",
       "6  {'title': 'vkaminski', 'accession_date': 2019-...  \"Vince J Kaminski\"   \n",
       "7  {'title': 'vkaminski', 'accession_date': 2019-...  \"Vince J Kaminski\"   \n",
       "8  {'title': 'vkaminski', 'accession_date': 2019-...   VKaminski@aol.com   \n",
       "9  {'title': 'vkaminski', 'accession_date': 2019-...  \"Vince J Kaminski\"   \n",
       "\n",
       "                                         msg_subject  \\\n",
       "0                    \"Help Millions\" - Pledge Today!   \n",
       "1                     Help with statistical analysis   \n",
       "2                             Thanks for your help!!   \n",
       "3  FW: HELP!!! I'VE FAINTED AND I CAN'T COME TO!!!!!   \n",
       "4                    \"Help Millions\" - Pledge Today!   \n",
       "5                           Help on cluster analysis   \n",
       "6                                     Re: Info help.   \n",
       "7                            Help on DPC LNG Options   \n",
       "8                                  Fwd: Please, help   \n",
       "9                           Help with the Tiger Team   \n",
       "\n",
       "                                            msg_body  \\\n",
       "0  date: Fri, 4 Aug 2000 16:08:00 -0700 (PDT) Fri...   \n",
       "1  Date: Thu, 20 Apr 2000 08:05:00 -0700 (PDT),Th...   \n",
       "2  Date: Fri, 11 Feb 2000 15:05:00 -0800 (PST),Fr...   \n",
       "3  Date: Mon, 8 Oct 2001 21:57:25 -0700 (PDT),Mon...   \n",
       "4  date: Fri, 4 Aug 2000 16:08:00 -0700 (PDT) Fri...   \n",
       "5  date: Thu, 22 Mar 2001 14:45:00 -0800 (PST) Th...   \n",
       "6  date: Tue, 15 Aug 2000 17:51:00 -0700 (PDT) Tu...   \n",
       "7  date: Mon, 12 Mar 2001 17:07:00 -0800 (PST) Mo...   \n",
       "8  date: Mon, 9 Apr 2001 23:12:00 -0700 (PDT) Mon...   \n",
       "9  Date: Thu, 11 Jan 2001 09:51:00 -0800 (PST),Th...   \n",
       "\n",
       "                                           directory  \n",
       "0  /Top of Personal Folders/test/Vincent_Kaminski...  \n",
       "1  /Top of Personal Folders/test/Vincent_Kaminski...  \n",
       "2  /Top of Personal Folders/test/Vincent_Kaminski...  \n",
       "3  /Top of Personal Folders/davis-d/DDAVIS (Non-P...  \n",
       "4  /Top of Personal Folders/kaminski-v/Vincent_Ka...  \n",
       "5  /Top of Personal Folders/kaminski-v/Vincent_Ka...  \n",
       "6  /Top of Personal Folders/kaminski-v/Vincent_Ka...  \n",
       "7  /Top of Personal Folders/kaminski-v/Vincent_Ka...  \n",
       "8  /Top of Personal Folders/kaminski-v/Vincent_Ka...  \n",
       "9  /Top of Personal Folders/kaminski-v/Vincent_Ka...  "
      ]
     },
     "execution_count": 10,
     "metadata": {},
     "output_type": "execute_result"
    }
   ],
   "source": [
    "# using pandas\n",
    "results_df = pd.DataFrame((d.to_dict() for d in search[:10]))\n",
    "results_df"
   ]
  },
  {
   "cell_type": "markdown",
   "metadata": {},
   "source": [
    "## Multi-match\n",
    "\n",
    "https://elasticsearch-dsl.readthedocs.io/en/latest/search_dsl.html#queries"
   ]
  },
  {
   "cell_type": "code",
   "execution_count": 11,
   "metadata": {},
   "outputs": [
    {
     "data": {
      "text/plain": [
       "Bool(must=[Match(msg_subject='help'), Match(collection__title='kate_symes')])"
      ]
     },
     "execution_count": 11,
     "metadata": {},
     "output_type": "execute_result"
    }
   ],
   "source": [
    "q = Q(\"match\", msg_subject='help') & Q(\"match\", collection__title=\"kate_symes\")\n",
    "q"
   ]
  },
  {
   "cell_type": "code",
   "execution_count": 12,
   "metadata": {},
   "outputs": [
    {
     "name": "stderr",
     "output_type": "stream",
     "text": [
      "2019-12-02 09:27:55,560 elasticsearch        INFO     GET http://localhost:9200/message/_search [status:200 request:0.013s]\n"
     ]
    },
    {
     "data": {
      "text/plain": [
       "9"
      ]
     },
     "execution_count": 12,
     "metadata": {},
     "output_type": "execute_result"
    }
   ],
   "source": [
    "search = MessageDocument.search().query(q)\n",
    "response = search.execute()\n",
    "search.count()"
   ]
  },
  {
   "cell_type": "code",
   "execution_count": 13,
   "metadata": {},
   "outputs": [
    {
     "name": "stderr",
     "output_type": "stream",
     "text": [
      "2019-12-02 09:27:55,916 elasticsearch        INFO     GET http://localhost:9200/message/_search [status:200 request:0.007s]\n"
     ]
    },
    {
     "data": {
      "text/html": [
       "<div>\n",
       "<style scoped>\n",
       "    .dataframe tbody tr th:only-of-type {\n",
       "        vertical-align: middle;\n",
       "    }\n",
       "\n",
       "    .dataframe tbody tr th {\n",
       "        vertical-align: top;\n",
       "    }\n",
       "\n",
       "    .dataframe thead th {\n",
       "        text-align: right;\n",
       "    }\n",
       "</style>\n",
       "<table border=\"1\" class=\"dataframe\">\n",
       "  <thead>\n",
       "    <tr style=\"text-align: right;\">\n",
       "      <th></th>\n",
       "      <th>collection</th>\n",
       "      <th>labels</th>\n",
       "      <th>msg_from</th>\n",
       "      <th>msg_subject</th>\n",
       "      <th>msg_body</th>\n",
       "      <th>directory</th>\n",
       "    </tr>\n",
       "  </thead>\n",
       "  <tbody>\n",
       "    <tr>\n",
       "      <th>0</th>\n",
       "      <td>{'title': 'kate_symes', 'accession_date': 2019...</td>\n",
       "      <td>[FAC, NORP, MONEY, ORG, CARDINAL, LOC, DATE, P...</td>\n",
       "      <td>\"Kate Symes\"</td>\n",
       "      <td>Re: Help!</td>\n",
       "      <td>Body-Type: plain-text\\r\\n\\r\\nWhatever she's ma...</td>\n",
       "      <td>/Top of Personal Folders/symes-k/kate symes 6-...</td>\n",
       "    </tr>\n",
       "    <tr>\n",
       "      <th>1</th>\n",
       "      <td>{'title': 'kate_symes', 'accession_date': 2019...</td>\n",
       "      <td>[FAC, NORP, MONEY, ORG, CARDINAL, LOC, DATE, P...</td>\n",
       "      <td>\"Kate Symes\"</td>\n",
       "      <td>Re: Help!</td>\n",
       "      <td>Body-Type: plain-text\\r\\n\\r\\nWhatever she's ma...</td>\n",
       "      <td>/Top of Personal Folders/symes-k/kate symes 6-...</td>\n",
       "    </tr>\n",
       "    <tr>\n",
       "      <th>2</th>\n",
       "      <td>{'title': 'kate_symes', 'accession_date': 2019...</td>\n",
       "      <td>[FAC, NORP, MONEY, ORG, CARDINAL, LOC, DATE, P...</td>\n",
       "      <td>\"Kate Symes\"</td>\n",
       "      <td>Re: Help!</td>\n",
       "      <td>Body-Type: plain-text\\r\\n\\r\\nWhatever she's ma...</td>\n",
       "      <td>/Top of Personal Folders/symes-k/kate symes 6-...</td>\n",
       "    </tr>\n",
       "    <tr>\n",
       "      <th>3</th>\n",
       "      <td>{'title': 'kate_symes', 'accession_date': 2019...</td>\n",
       "      <td>[MONEY, ORG, CARDINAL, PERSON, GPE]</td>\n",
       "      <td>\"Mark Confer\"</td>\n",
       "      <td>Can You Help</td>\n",
       "      <td>Body-Type: plain-text\\r\\n\\r\\nKate, could you h...</td>\n",
       "      <td>/Top of Personal Folders/symes-k/kate symes 6-...</td>\n",
       "    </tr>\n",
       "    <tr>\n",
       "      <th>4</th>\n",
       "      <td>{'title': 'kate_symes', 'accession_date': 2019...</td>\n",
       "      <td>[MONEY, ORG, CARDINAL, PERSON, GPE]</td>\n",
       "      <td>\"Mark Confer\"</td>\n",
       "      <td>Can You Help</td>\n",
       "      <td>Body-Type: plain-text\\r\\n\\r\\nKate, could you h...</td>\n",
       "      <td>/Top of Personal Folders/symes-k/kate symes 6-...</td>\n",
       "    </tr>\n",
       "    <tr>\n",
       "      <th>5</th>\n",
       "      <td>{'title': 'kate_symes', 'accession_date': 2019...</td>\n",
       "      <td>[MONEY, ORG, CARDINAL, PERSON, GPE]</td>\n",
       "      <td>\"Mark Confer\"</td>\n",
       "      <td>Can You Help</td>\n",
       "      <td>Body-Type: plain-text\\r\\n\\r\\nKate, could you h...</td>\n",
       "      <td>/Top of Personal Folders/symes-k/kate symes 6-...</td>\n",
       "    </tr>\n",
       "    <tr>\n",
       "      <th>6</th>\n",
       "      <td>{'title': 'kate_symes', 'accession_date': 2019...</td>\n",
       "      <td>[ORG, CARDINAL, LOC, PERSON, GPE]</td>\n",
       "      <td>\"Mary Jane Symes\" &lt;marys@tvapdx.com&gt;</td>\n",
       "      <td>Help Save the Arctic Refuge</td>\n",
       "      <td>Body-Type: plain-text\\r\\n\\r\\nI just signed thi...</td>\n",
       "      <td>/Top of Personal Folders/symes-k/kate symes 6-...</td>\n",
       "    </tr>\n",
       "    <tr>\n",
       "      <th>7</th>\n",
       "      <td>{'title': 'kate_symes', 'accession_date': 2019...</td>\n",
       "      <td>[ORG, CARDINAL, LOC, PERSON, GPE]</td>\n",
       "      <td>\"Mary Jane Symes\" &lt;marys@tvapdx.com&gt;</td>\n",
       "      <td>Help Save the Arctic Refuge</td>\n",
       "      <td>Body-Type: plain-text\\r\\n\\r\\nI just signed thi...</td>\n",
       "      <td>/Top of Personal Folders/symes-k/kate symes 6-...</td>\n",
       "    </tr>\n",
       "    <tr>\n",
       "      <th>8</th>\n",
       "      <td>{'title': 'kate_symes', 'accession_date': 2019...</td>\n",
       "      <td>[ORG, CARDINAL, LOC, PERSON, GPE]</td>\n",
       "      <td>\"Mary Jane Symes\" &lt;marys@tvapdx.com&gt;</td>\n",
       "      <td>Help Save the Arctic Refuge</td>\n",
       "      <td>Body-Type: plain-text\\r\\n\\r\\nI just signed thi...</td>\n",
       "      <td>/Top of Personal Folders/symes-k/kate symes 6-...</td>\n",
       "    </tr>\n",
       "  </tbody>\n",
       "</table>\n",
       "</div>"
      ],
      "text/plain": [
       "                                          collection  \\\n",
       "0  {'title': 'kate_symes', 'accession_date': 2019...   \n",
       "1  {'title': 'kate_symes', 'accession_date': 2019...   \n",
       "2  {'title': 'kate_symes', 'accession_date': 2019...   \n",
       "3  {'title': 'kate_symes', 'accession_date': 2019...   \n",
       "4  {'title': 'kate_symes', 'accession_date': 2019...   \n",
       "5  {'title': 'kate_symes', 'accession_date': 2019...   \n",
       "6  {'title': 'kate_symes', 'accession_date': 2019...   \n",
       "7  {'title': 'kate_symes', 'accession_date': 2019...   \n",
       "8  {'title': 'kate_symes', 'accession_date': 2019...   \n",
       "\n",
       "                                              labels  \\\n",
       "0  [FAC, NORP, MONEY, ORG, CARDINAL, LOC, DATE, P...   \n",
       "1  [FAC, NORP, MONEY, ORG, CARDINAL, LOC, DATE, P...   \n",
       "2  [FAC, NORP, MONEY, ORG, CARDINAL, LOC, DATE, P...   \n",
       "3                [MONEY, ORG, CARDINAL, PERSON, GPE]   \n",
       "4                [MONEY, ORG, CARDINAL, PERSON, GPE]   \n",
       "5                [MONEY, ORG, CARDINAL, PERSON, GPE]   \n",
       "6                  [ORG, CARDINAL, LOC, PERSON, GPE]   \n",
       "7                  [ORG, CARDINAL, LOC, PERSON, GPE]   \n",
       "8                  [ORG, CARDINAL, LOC, PERSON, GPE]   \n",
       "\n",
       "                               msg_from                  msg_subject  \\\n",
       "0                          \"Kate Symes\"                    Re: Help!   \n",
       "1                          \"Kate Symes\"                    Re: Help!   \n",
       "2                          \"Kate Symes\"                    Re: Help!   \n",
       "3                         \"Mark Confer\"                 Can You Help   \n",
       "4                         \"Mark Confer\"                 Can You Help   \n",
       "5                         \"Mark Confer\"                 Can You Help   \n",
       "6  \"Mary Jane Symes\" <marys@tvapdx.com>  Help Save the Arctic Refuge   \n",
       "7  \"Mary Jane Symes\" <marys@tvapdx.com>  Help Save the Arctic Refuge   \n",
       "8  \"Mary Jane Symes\" <marys@tvapdx.com>  Help Save the Arctic Refuge   \n",
       "\n",
       "                                            msg_body  \\\n",
       "0  Body-Type: plain-text\\r\\n\\r\\nWhatever she's ma...   \n",
       "1  Body-Type: plain-text\\r\\n\\r\\nWhatever she's ma...   \n",
       "2  Body-Type: plain-text\\r\\n\\r\\nWhatever she's ma...   \n",
       "3  Body-Type: plain-text\\r\\n\\r\\nKate, could you h...   \n",
       "4  Body-Type: plain-text\\r\\n\\r\\nKate, could you h...   \n",
       "5  Body-Type: plain-text\\r\\n\\r\\nKate, could you h...   \n",
       "6  Body-Type: plain-text\\r\\n\\r\\nI just signed thi...   \n",
       "7  Body-Type: plain-text\\r\\n\\r\\nI just signed thi...   \n",
       "8  Body-Type: plain-text\\r\\n\\r\\nI just signed thi...   \n",
       "\n",
       "                                           directory  \n",
       "0  /Top of Personal Folders/symes-k/kate symes 6-...  \n",
       "1  /Top of Personal Folders/symes-k/kate symes 6-...  \n",
       "2  /Top of Personal Folders/symes-k/kate symes 6-...  \n",
       "3  /Top of Personal Folders/symes-k/kate symes 6-...  \n",
       "4  /Top of Personal Folders/symes-k/kate symes 6-...  \n",
       "5  /Top of Personal Folders/symes-k/kate symes 6-...  \n",
       "6  /Top of Personal Folders/symes-k/kate symes 6-...  \n",
       "7  /Top of Personal Folders/symes-k/kate symes 6-...  \n",
       "8  /Top of Personal Folders/symes-k/kate symes 6-...  "
      ]
     },
     "execution_count": 13,
     "metadata": {},
     "output_type": "execute_result"
    }
   ],
   "source": [
    "results_df = pd.DataFrame((d.to_dict() for d in search[:10]))\n",
    "results_df"
   ]
  },
  {
   "cell_type": "markdown",
   "metadata": {},
   "source": [
    "# Facet"
   ]
  },
  {
   "cell_type": "code",
   "execution_count": 14,
   "metadata": {},
   "outputs": [],
   "source": [
    "class MessageSearch(FacetedSearch):\n",
    "    doc_types = [MessageDocument, ]\n",
    "    fields = ['msg_subject', 'msg_body']\n",
    "\n",
    "    facets = {\n",
    "        'labels': TermsFacet(field='labels'),\n",
    "    }"
   ]
  },
  {
   "cell_type": "code",
   "execution_count": 15,
   "metadata": {},
   "outputs": [
    {
     "name": "stderr",
     "output_type": "stream",
     "text": [
      "2019-12-02 09:27:58,626 elasticsearch        INFO     GET http://localhost:9200/_all/_search [status:200 request:0.019s]\n"
     ]
    }
   ],
   "source": [
    "# how do you combine with query?\n",
    "search = MessageSearch(\"help\", {\"labels\": \"PERSON\"})\n",
    "response = search.execute()"
   ]
  },
  {
   "cell_type": "code",
   "execution_count": 16,
   "metadata": {},
   "outputs": [
    {
     "name": "stdout",
     "output_type": "stream",
     "text": [
      "total hits eq 3083\n",
      "9.111702 Re: Help!\n",
      "9.111702 Re: Help!\n",
      "9.111702 Re: Help!\n",
      "8.221744 Can You Help\n",
      "8.221744 Can You Help\n",
      "8.221744 Can You Help\n",
      "6.878141 Re: Help - Missing Profile Books!\n",
      "6.878141 Help Save the Arctic Refuge\n",
      "6.878141 Help Save the Arctic Refuge\n",
      "6.878141 Help Save the Arctic Refuge\n",
      "CARDINAL : 3368\n",
      "ORG : 3368\n",
      "PERSON  (SELECTED): 3083\n",
      "DATE : 3021\n",
      "GPE : 2115\n",
      "TIME : 2047\n",
      "ORDINAL : 856\n",
      "WORK_OF_ART : 651\n",
      "LOC : 610\n",
      "NORP : 595\n"
     ]
    }
   ],
   "source": [
    "# access hits and other attributes as usual\n",
    "total = response.hits.total\n",
    "print('total hits', total.relation, total.value)\n",
    "for hit in response:\n",
    "    print(hit.meta.score, hit.msg_subject)\n",
    "\n",
    "for (tag, count, selected) in response.facets.labels:\n",
    "    print(tag, ' (SELECTED):' if selected else ':', count)"
   ]
  },
  {
   "cell_type": "code",
   "execution_count": null,
   "metadata": {},
   "outputs": [],
   "source": []
  }
 ],
 "metadata": {
  "kernelspec": {
   "display_name": "Python 3",
   "language": "python",
   "name": "python3"
  },
  "language_info": {
   "codemirror_mode": {
    "name": "ipython",
    "version": 3
   },
   "file_extension": ".py",
   "mimetype": "text/x-python",
   "name": "python",
   "nbconvert_exporter": "python",
   "pygments_lexer": "ipython3",
   "version": "3.7.4"
  }
 },
 "nbformat": 4,
 "nbformat_minor": 4
}
