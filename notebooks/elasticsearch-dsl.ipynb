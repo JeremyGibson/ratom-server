{
 "cells": [
  {
   "cell_type": "code",
   "execution_count": 1,
   "metadata": {},
   "outputs": [],
   "source": [
    "# Setup Notebook to load Django code\n",
    "# From project root, run: jupyter-lab\n",
    "\n",
    "import os\n",
    "import sys\n",
    "from pathlib import Path\n",
    "\n",
    "django_project_dir = Path('../')\n",
    "sys.path.insert(0, str(django_project_dir))\n",
    "os.environ.setdefault(\"DJANGO_SETTINGS_MODULE\", \"ratom_api.settings.local\")\n",
    "\n",
    "import django\n",
    "django.setup()"
   ]
  },
  {
   "cell_type": "markdown",
   "metadata": {},
   "source": [
    "# Start elasticsearch"
   ]
  },
  {
   "cell_type": "code",
   "execution_count": 3,
   "metadata": {},
   "outputs": [
    {
     "name": "stdout",
     "output_type": "stream",
     "text": [
      "Starting kibana ... \n",
      "Starting elasticsearch ... \n",
      "\u001b[2Bting kibana        ... \u001b[32mdone\u001b[0m\u001b[2A\u001b[2K"
     ]
    }
   ],
   "source": [
    "! docker-compose up -d elasticsearch kibana"
   ]
  },
  {
   "cell_type": "code",
   "execution_count": 4,
   "metadata": {},
   "outputs": [
    {
     "name": "stdout",
     "output_type": "stream",
     "text": [
      "    Name                  Command             State             Ports           \n",
      "--------------------------------------------------------------------------------\n",
      "elasticsearch   /usr/local/bin/docker-entr    Up      0.0.0.0:9200->9200/tcp,   \n",
      "                ...                                   0.0.0.0:9300->9300/tcp    \n",
      "kibana          /usr/local/bin/dumb-init -    Up      0.0.0.0:5601->5601/tcp    \n",
      "                ...                                                             \n"
     ]
    }
   ],
   "source": [
    "! docker-compose ps"
   ]
  },
  {
   "cell_type": "markdown",
   "metadata": {},
   "source": [
    "elasticsearch should be running at: http://localhost:9200/"
   ]
  },
  {
   "cell_type": "code",
   "execution_count": null,
   "metadata": {},
   "outputs": [],
   "source": [
    "# If it doesn't start.. look at logs:\n",
    "\n",
    "! docker-compose logs elasticsearch"
   ]
  },
  {
   "cell_type": "markdown",
   "metadata": {},
   "source": [
    "## Re-build index\n",
    "\n",
    "https://django-elasticsearch-dsl.readthedocs.io/en/latest/quickstart.html#populate"
   ]
  },
  {
   "cell_type": "code",
   "execution_count": 140,
   "metadata": {},
   "outputs": [
    {
     "name": "stdout",
     "output_type": "stream",
     "text": [
      "Traceback (most recent call last):\n",
      "  File \"/Users/copelco/.pyenv/versions/ratom-api/lib/python3.7/site-packages/django_elasticsearch_dsl/documents.py\", line 139, in to_field\n",
      "    model_field.__class__](attr=field_name)\n",
      "KeyError: <class 'django.contrib.postgres.fields.jsonb.JSONField'>\n",
      "\n",
      "During handling of the above exception, another exception occurred:\n",
      "\n",
      "Traceback (most recent call last):\n",
      "  File \"../manage.py\", line 18, in <module>\n",
      "    execute_from_command_line(sys.argv)\n",
      "  File \"/Users/copelco/.pyenv/versions/ratom-api/lib/python3.7/site-packages/django/core/management/__init__.py\", line 381, in execute_from_command_line\n",
      "    utility.execute()\n",
      "  File \"/Users/copelco/.pyenv/versions/ratom-api/lib/python3.7/site-packages/django/core/management/__init__.py\", line 357, in execute\n",
      "    django.setup()\n",
      "  File \"/Users/copelco/.pyenv/versions/ratom-api/lib/python3.7/site-packages/django/__init__.py\", line 24, in setup\n",
      "    apps.populate(settings.INSTALLED_APPS)\n",
      "  File \"/Users/copelco/.pyenv/versions/ratom-api/lib/python3.7/site-packages/django/apps/registry.py\", line 122, in populate\n",
      "    app_config.ready()\n",
      "  File \"/Users/copelco/.pyenv/versions/ratom-api/lib/python3.7/site-packages/django_elasticsearch_dsl/apps.py\", line 14, in ready\n",
      "    self.module.autodiscover()\n",
      "  File \"/Users/copelco/.pyenv/versions/ratom-api/lib/python3.7/site-packages/django_elasticsearch_dsl/__init__.py\", line 11, in autodiscover\n",
      "    autodiscover_modules('documents')\n",
      "  File \"/Users/copelco/.pyenv/versions/ratom-api/lib/python3.7/site-packages/django/utils/module_loading.py\", line 47, in autodiscover_modules\n",
      "    import_module('%s.%s' % (app_config.name, module_to_search))\n",
      "  File \"/Users/copelco/.pyenv/versions/3.7.2/lib/python3.7/importlib/__init__.py\", line 127, in import_module\n",
      "    return _bootstrap._gcd_import(name[level:], package, level)\n",
      "  File \"<frozen importlib._bootstrap>\", line 1006, in _gcd_import\n",
      "  File \"<frozen importlib._bootstrap>\", line 983, in _find_and_load\n",
      "  File \"<frozen importlib._bootstrap>\", line 967, in _find_and_load_unlocked\n",
      "  File \"<frozen importlib._bootstrap>\", line 677, in _load_unlocked\n",
      "  File \"<frozen importlib._bootstrap_external>\", line 728, in exec_module\n",
      "  File \"<frozen importlib._bootstrap>\", line 219, in _call_with_frames_removed\n",
      "  File \"/Users/copelco/projects/ratom_api/ratom/documents.py\", line 7, in <module>\n",
      "    class MessageDocument(Document):\n",
      "  File \"/Users/copelco/.pyenv/versions/ratom-api/lib/python3.7/site-packages/django_elasticsearch_dsl/registries.py\", line 65, in register_document\n",
      "    field_instance = document.to_field(field_name, django_field)\n",
      "  File \"/Users/copelco/.pyenv/versions/ratom-api/lib/python3.7/site-packages/django_elasticsearch_dsl/documents.py\", line 143, in to_field\n",
      "    \"to an Elasticsearch field!\".format(field_name)\n",
      "django_elasticsearch_dsl.exceptions.ModelFieldNotMappedError: Cannot convert model field data to an Elasticsearch field!\n",
      "\n",
      "real\t0m1.314s\n",
      "user\t0m0.806s\n",
      "sys\t0m0.239s\n"
     ]
    }
   ],
   "source": [
    "! time python ../manage.py search_index -f --rebuild --parallel"
   ]
  },
  {
   "cell_type": "markdown",
   "metadata": {},
   "source": [
    "# Match"
   ]
  },
  {
   "cell_type": "code",
   "execution_count": 108,
   "metadata": {},
   "outputs": [],
   "source": [
    "import pandas as pd\n",
    "\n",
    "from ratom.documents import MessageDocument"
   ]
  },
  {
   "cell_type": "code",
   "execution_count": 121,
   "metadata": {},
   "outputs": [],
   "source": [
    "# https://django-elasticsearch-dsl.readthedocs.io/en/latest/quickstart.html#search\n",
    "\n",
    "search = MessageDocument.search().filter(\"match\", msg_subject=\"help\")"
   ]
  },
  {
   "cell_type": "markdown",
   "metadata": {},
   "source": [
    "## Count"
   ]
  },
  {
   "cell_type": "code",
   "execution_count": 122,
   "metadata": {},
   "outputs": [
    {
     "name": "stderr",
     "output_type": "stream",
     "text": [
      "2019-11-28 10:32:53,412 elasticsearch        INFO     GET http://localhost:9200/message/_count [status:200 request:0.005s]\n"
     ]
    },
    {
     "data": {
      "text/plain": [
       "91"
      ]
     },
     "execution_count": 122,
     "metadata": {},
     "output_type": "execute_result"
    }
   ],
   "source": [
    "search.count()"
   ]
  },
  {
   "cell_type": "code",
   "execution_count": 111,
   "metadata": {},
   "outputs": [
    {
     "name": "stderr",
     "output_type": "stream",
     "text": [
      "2019-11-28 10:26:46,848 elasticsearch        INFO     GET http://localhost:9200/message/_search [status:200 request:0.013s]\n"
     ]
    }
   ],
   "source": [
    "response = search.execute()"
   ]
  },
  {
   "cell_type": "code",
   "execution_count": 112,
   "metadata": {},
   "outputs": [
    {
     "data": {
      "text/plain": [
       "{'value': 91, 'relation': 'eq'}"
      ]
     },
     "execution_count": 112,
     "metadata": {},
     "output_type": "execute_result"
    }
   ],
   "source": [
    "# how is this different from search.count()?\n",
    "response.hits.total"
   ]
  },
  {
   "cell_type": "code",
   "execution_count": 113,
   "metadata": {},
   "outputs": [
    {
     "data": {
      "text/plain": [
       "9"
      ]
     },
     "execution_count": 113,
     "metadata": {},
     "output_type": "execute_result"
    }
   ],
   "source": [
    "response.took"
   ]
  },
  {
   "cell_type": "markdown",
   "metadata": {},
   "source": [
    "## Response"
   ]
  },
  {
   "cell_type": "code",
   "execution_count": 114,
   "metadata": {},
   "outputs": [
    {
     "name": "stdout",
     "output_type": "stream",
     "text": [
      "Help with statistical analysis\n",
      "Thanks for your help!!\n",
      "FW: HELP!!! I'VE FAINTED AND I CAN'T COME TO!!!!!\n",
      "Help with statistical analysis\n",
      "Re: Info help.\n",
      "Re: Info help.\n",
      "Re: Info help.\n",
      "Thanks for your help!!\n",
      "Re: Help - Missing Profile Books!\n",
      "Help on cluster analysis\n"
     ]
    }
   ],
   "source": [
    "# simple using response\n",
    "for msg in response[:10]:\n",
    "    print(msg.msg_subject)"
   ]
  },
  {
   "cell_type": "code",
   "execution_count": 115,
   "metadata": {},
   "outputs": [
    {
     "name": "stderr",
     "output_type": "stream",
     "text": [
      "2019-11-28 10:26:52,697 elasticsearch        INFO     GET http://localhost:9200/message/_search [status:200 request:0.005s]\n"
     ]
    },
    {
     "data": {
      "text/html": [
       "<div>\n",
       "<style scoped>\n",
       "    .dataframe tbody tr th:only-of-type {\n",
       "        vertical-align: middle;\n",
       "    }\n",
       "\n",
       "    .dataframe tbody tr th {\n",
       "        vertical-align: top;\n",
       "    }\n",
       "\n",
       "    .dataframe thead th {\n",
       "        text-align: right;\n",
       "    }\n",
       "</style>\n",
       "<table border=\"1\" class=\"dataframe\">\n",
       "  <thead>\n",
       "    <tr style=\"text-align: right;\">\n",
       "      <th></th>\n",
       "      <th>collection</th>\n",
       "      <th>msg_from</th>\n",
       "      <th>msg_subject</th>\n",
       "      <th>msg_body</th>\n",
       "      <th>directory</th>\n",
       "    </tr>\n",
       "  </thead>\n",
       "  <tbody>\n",
       "    <tr>\n",
       "      <th>0</th>\n",
       "      <td>{'title': 'vkaminski', 'accession_date': '2019...</td>\n",
       "      <td>\"Vince J Kaminski\"</td>\n",
       "      <td>Help with statistical analysis</td>\n",
       "      <td>Date: Thu, 20 Apr 2000 08:05:00 -0700 (PDT),Th...</td>\n",
       "      <td>/Top of Personal Folders/test/Vincent_Kaminski...</td>\n",
       "    </tr>\n",
       "    <tr>\n",
       "      <th>1</th>\n",
       "      <td>{'title': 'vkaminski', 'accession_date': '2019...</td>\n",
       "      <td>\"Bridget D'Silva\"</td>\n",
       "      <td>Thanks for your help!!</td>\n",
       "      <td>Date: Fri, 11 Feb 2000 15:05:00 -0800 (PST),Fr...</td>\n",
       "      <td>/Top of Personal Folders/test/Vincent_Kaminski...</td>\n",
       "    </tr>\n",
       "    <tr>\n",
       "      <th>2</th>\n",
       "      <td>{'title': 'dana_davis', 'accession_date': '201...</td>\n",
       "      <td>Davis</td>\n",
       "      <td>FW: HELP!!! I'VE FAINTED AND I CAN'T COME TO!!!!!</td>\n",
       "      <td>Date: Mon, 8 Oct 2001 21:57:25 -0700 (PDT),Mon...</td>\n",
       "      <td>/Top of Personal Folders/davis-d/DDAVIS (Non-P...</td>\n",
       "    </tr>\n",
       "    <tr>\n",
       "      <th>3</th>\n",
       "      <td>{'title': 'vkaminski', 'accession_date': '2019...</td>\n",
       "      <td>\"Vince J Kaminski\"</td>\n",
       "      <td>Help with statistical analysis</td>\n",
       "      <td>date: Thu, 20 Apr 2000 08:05:00 -0700 (PDT) Th...</td>\n",
       "      <td>/Top of Personal Folders/test/Vincent_Kaminski...</td>\n",
       "    </tr>\n",
       "    <tr>\n",
       "      <th>4</th>\n",
       "      <td>{'title': 'vkaminski', 'accession_date': '2019...</td>\n",
       "      <td>\"Michael SCHILMOELLER\" &lt;Michael_Schilmoeller@p...</td>\n",
       "      <td>Re: Info help.</td>\n",
       "      <td>date: Tue, 15 Aug 2000 09:08:00 -0700 (PDT) Tu...</td>\n",
       "      <td>/Top of Personal Folders/test/Vincent_Kaminski...</td>\n",
       "    </tr>\n",
       "    <tr>\n",
       "      <th>5</th>\n",
       "      <td>{'title': 'vkaminski', 'accession_date': '2019...</td>\n",
       "      <td>\"Vince J Kaminski\"</td>\n",
       "      <td>Re: Info help.</td>\n",
       "      <td>date: Tue, 15 Aug 2000 17:51:00 -0700 (PDT) Tu...</td>\n",
       "      <td>/Top of Personal Folders/test/Vincent_Kaminski...</td>\n",
       "    </tr>\n",
       "    <tr>\n",
       "      <th>6</th>\n",
       "      <td>{'title': 'vkaminski', 'accession_date': '2019...</td>\n",
       "      <td>\"Vince J Kaminski\"</td>\n",
       "      <td>Re: Info help.</td>\n",
       "      <td>date: Tue, 15 Aug 2000 17:51:00 -0700 (PDT) Tu...</td>\n",
       "      <td>/Top of Personal Folders/test/Vincent_Kaminski...</td>\n",
       "    </tr>\n",
       "    <tr>\n",
       "      <th>7</th>\n",
       "      <td>{'title': 'vkaminski', 'accession_date': '2019...</td>\n",
       "      <td>\"Bridget D'Silva\"</td>\n",
       "      <td>Thanks for your help!!</td>\n",
       "      <td>date: Fri, 11 Feb 2000 15:05:00 -0800 (PST) Fr...</td>\n",
       "      <td>/Top of Personal Folders/test/Vincent_Kaminski...</td>\n",
       "    </tr>\n",
       "    <tr>\n",
       "      <th>8</th>\n",
       "      <td>{'title': 'sally_beck', 'accession_date': '201...</td>\n",
       "      <td>\"Sally Beck\"</td>\n",
       "      <td>Re: Help - Missing Profile Books!</td>\n",
       "      <td>Body-Type: plain-text\\r\\n\\r\\nI did walk out of...</td>\n",
       "      <td>/Top of Personal Folders/beck-s/Sally_Beck_Jun...</td>\n",
       "    </tr>\n",
       "    <tr>\n",
       "      <th>9</th>\n",
       "      <td>{'title': 'vkaminski', 'accession_date': '2019...</td>\n",
       "      <td>\"Lance Cunningham\"</td>\n",
       "      <td>Help on cluster analysis</td>\n",
       "      <td>date: Thu, 22 Mar 2001 14:45:00 -0800 (PST) Th...</td>\n",
       "      <td>/Top of Personal Folders/kaminski-v/Vincent_Ka...</td>\n",
       "    </tr>\n",
       "  </tbody>\n",
       "</table>\n",
       "</div>"
      ],
      "text/plain": [
       "                                          collection  \\\n",
       "0  {'title': 'vkaminski', 'accession_date': '2019...   \n",
       "1  {'title': 'vkaminski', 'accession_date': '2019...   \n",
       "2  {'title': 'dana_davis', 'accession_date': '201...   \n",
       "3  {'title': 'vkaminski', 'accession_date': '2019...   \n",
       "4  {'title': 'vkaminski', 'accession_date': '2019...   \n",
       "5  {'title': 'vkaminski', 'accession_date': '2019...   \n",
       "6  {'title': 'vkaminski', 'accession_date': '2019...   \n",
       "7  {'title': 'vkaminski', 'accession_date': '2019...   \n",
       "8  {'title': 'sally_beck', 'accession_date': '201...   \n",
       "9  {'title': 'vkaminski', 'accession_date': '2019...   \n",
       "\n",
       "                                            msg_from  \\\n",
       "0                                 \"Vince J Kaminski\"   \n",
       "1                                  \"Bridget D'Silva\"   \n",
       "2                                              Davis   \n",
       "3                                 \"Vince J Kaminski\"   \n",
       "4  \"Michael SCHILMOELLER\" <Michael_Schilmoeller@p...   \n",
       "5                                 \"Vince J Kaminski\"   \n",
       "6                                 \"Vince J Kaminski\"   \n",
       "7                                  \"Bridget D'Silva\"   \n",
       "8                                       \"Sally Beck\"   \n",
       "9                                 \"Lance Cunningham\"   \n",
       "\n",
       "                                         msg_subject  \\\n",
       "0                     Help with statistical analysis   \n",
       "1                             Thanks for your help!!   \n",
       "2  FW: HELP!!! I'VE FAINTED AND I CAN'T COME TO!!!!!   \n",
       "3                     Help with statistical analysis   \n",
       "4                                     Re: Info help.   \n",
       "5                                     Re: Info help.   \n",
       "6                                     Re: Info help.   \n",
       "7                             Thanks for your help!!   \n",
       "8                  Re: Help - Missing Profile Books!   \n",
       "9                           Help on cluster analysis   \n",
       "\n",
       "                                            msg_body  \\\n",
       "0  Date: Thu, 20 Apr 2000 08:05:00 -0700 (PDT),Th...   \n",
       "1  Date: Fri, 11 Feb 2000 15:05:00 -0800 (PST),Fr...   \n",
       "2  Date: Mon, 8 Oct 2001 21:57:25 -0700 (PDT),Mon...   \n",
       "3  date: Thu, 20 Apr 2000 08:05:00 -0700 (PDT) Th...   \n",
       "4  date: Tue, 15 Aug 2000 09:08:00 -0700 (PDT) Tu...   \n",
       "5  date: Tue, 15 Aug 2000 17:51:00 -0700 (PDT) Tu...   \n",
       "6  date: Tue, 15 Aug 2000 17:51:00 -0700 (PDT) Tu...   \n",
       "7  date: Fri, 11 Feb 2000 15:05:00 -0800 (PST) Fr...   \n",
       "8  Body-Type: plain-text\\r\\n\\r\\nI did walk out of...   \n",
       "9  date: Thu, 22 Mar 2001 14:45:00 -0800 (PST) Th...   \n",
       "\n",
       "                                           directory  \n",
       "0  /Top of Personal Folders/test/Vincent_Kaminski...  \n",
       "1  /Top of Personal Folders/test/Vincent_Kaminski...  \n",
       "2  /Top of Personal Folders/davis-d/DDAVIS (Non-P...  \n",
       "3  /Top of Personal Folders/test/Vincent_Kaminski...  \n",
       "4  /Top of Personal Folders/test/Vincent_Kaminski...  \n",
       "5  /Top of Personal Folders/test/Vincent_Kaminski...  \n",
       "6  /Top of Personal Folders/test/Vincent_Kaminski...  \n",
       "7  /Top of Personal Folders/test/Vincent_Kaminski...  \n",
       "8  /Top of Personal Folders/beck-s/Sally_Beck_Jun...  \n",
       "9  /Top of Personal Folders/kaminski-v/Vincent_Ka...  "
      ]
     },
     "execution_count": 115,
     "metadata": {},
     "output_type": "execute_result"
    }
   ],
   "source": [
    "# using pandas\n",
    "results_df = pd.DataFrame((d.to_dict() for d in search[:10]))\n",
    "results_df"
   ]
  },
  {
   "cell_type": "markdown",
   "metadata": {},
   "source": [
    "## Multi-match\n",
    "\n",
    "https://elasticsearch-dsl.readthedocs.io/en/latest/search_dsl.html#queries"
   ]
  },
  {
   "cell_type": "code",
   "execution_count": 128,
   "metadata": {},
   "outputs": [],
   "source": [
    "from elasticsearch_dsl import Q"
   ]
  },
  {
   "cell_type": "code",
   "execution_count": 131,
   "metadata": {},
   "outputs": [
    {
     "data": {
      "text/plain": [
       "Bool(must=[Match(msg_subject='help'), Match(collection__title='kate_symes')])"
      ]
     },
     "execution_count": 131,
     "metadata": {},
     "output_type": "execute_result"
    }
   ],
   "source": [
    "q = Q(\"match\", msg_subject='help') & Q(\"match\", collection__title=\"kate_symes\")\n",
    "q"
   ]
  },
  {
   "cell_type": "code",
   "execution_count": 138,
   "metadata": {},
   "outputs": [
    {
     "name": "stderr",
     "output_type": "stream",
     "text": [
      "2019-11-28 10:42:21,354 elasticsearch        INFO     GET http://localhost:9200/message/_search [status:200 request:0.020s]\n"
     ]
    },
    {
     "data": {
      "text/plain": [
       "9"
      ]
     },
     "execution_count": 138,
     "metadata": {},
     "output_type": "execute_result"
    }
   ],
   "source": [
    "search = MessageDocument.search().query(q)\n",
    "response = search.execute()\n",
    "search.count()"
   ]
  },
  {
   "cell_type": "code",
   "execution_count": 139,
   "metadata": {},
   "outputs": [
    {
     "name": "stderr",
     "output_type": "stream",
     "text": [
      "2019-11-28 10:42:31,723 elasticsearch        INFO     GET http://localhost:9200/message/_search [status:200 request:0.007s]\n"
     ]
    },
    {
     "data": {
      "text/html": [
       "<div>\n",
       "<style scoped>\n",
       "    .dataframe tbody tr th:only-of-type {\n",
       "        vertical-align: middle;\n",
       "    }\n",
       "\n",
       "    .dataframe tbody tr th {\n",
       "        vertical-align: top;\n",
       "    }\n",
       "\n",
       "    .dataframe thead th {\n",
       "        text-align: right;\n",
       "    }\n",
       "</style>\n",
       "<table border=\"1\" class=\"dataframe\">\n",
       "  <thead>\n",
       "    <tr style=\"text-align: right;\">\n",
       "      <th></th>\n",
       "      <th>collection</th>\n",
       "      <th>msg_from</th>\n",
       "      <th>msg_subject</th>\n",
       "      <th>msg_body</th>\n",
       "      <th>directory</th>\n",
       "    </tr>\n",
       "  </thead>\n",
       "  <tbody>\n",
       "    <tr>\n",
       "      <th>0</th>\n",
       "      <td>{'title': 'kate_symes', 'accession_date': '201...</td>\n",
       "      <td>\"Kate Symes\"</td>\n",
       "      <td>Re: Help!</td>\n",
       "      <td>Body-Type: plain-text\\r\\n\\r\\nWhatever she's ma...</td>\n",
       "      <td>/Top of Personal Folders/symes-k/kate symes 6-...</td>\n",
       "    </tr>\n",
       "    <tr>\n",
       "      <th>1</th>\n",
       "      <td>{'title': 'kate_symes', 'accession_date': '201...</td>\n",
       "      <td>\"Kate Symes\"</td>\n",
       "      <td>Re: Help!</td>\n",
       "      <td>Body-Type: plain-text\\r\\n\\r\\nWhatever she's ma...</td>\n",
       "      <td>/Top of Personal Folders/symes-k/kate symes 6-...</td>\n",
       "    </tr>\n",
       "    <tr>\n",
       "      <th>2</th>\n",
       "      <td>{'title': 'kate_symes', 'accession_date': '201...</td>\n",
       "      <td>\"Kate Symes\"</td>\n",
       "      <td>Re: Help!</td>\n",
       "      <td>Body-Type: plain-text\\r\\n\\r\\nWhatever she's ma...</td>\n",
       "      <td>/Top of Personal Folders/symes-k/kate symes 6-...</td>\n",
       "    </tr>\n",
       "    <tr>\n",
       "      <th>3</th>\n",
       "      <td>{'title': 'kate_symes', 'accession_date': '201...</td>\n",
       "      <td>\"Mark Confer\"</td>\n",
       "      <td>Can You Help</td>\n",
       "      <td>Body-Type: plain-text\\r\\n\\r\\nKate, could you h...</td>\n",
       "      <td>/Top of Personal Folders/symes-k/kate symes 6-...</td>\n",
       "    </tr>\n",
       "    <tr>\n",
       "      <th>4</th>\n",
       "      <td>{'title': 'kate_symes', 'accession_date': '201...</td>\n",
       "      <td>\"Mark Confer\"</td>\n",
       "      <td>Can You Help</td>\n",
       "      <td>Body-Type: plain-text\\r\\n\\r\\nKate, could you h...</td>\n",
       "      <td>/Top of Personal Folders/symes-k/kate symes 6-...</td>\n",
       "    </tr>\n",
       "    <tr>\n",
       "      <th>5</th>\n",
       "      <td>{'title': 'kate_symes', 'accession_date': '201...</td>\n",
       "      <td>\"Mark Confer\"</td>\n",
       "      <td>Can You Help</td>\n",
       "      <td>Body-Type: plain-text\\r\\n\\r\\nKate, could you h...</td>\n",
       "      <td>/Top of Personal Folders/symes-k/kate symes 6-...</td>\n",
       "    </tr>\n",
       "    <tr>\n",
       "      <th>6</th>\n",
       "      <td>{'title': 'kate_symes', 'accession_date': '201...</td>\n",
       "      <td>\"Mary Jane Symes\" &lt;marys@tvapdx.com&gt;</td>\n",
       "      <td>Help Save the Arctic Refuge</td>\n",
       "      <td>Body-Type: plain-text\\r\\n\\r\\nI just signed thi...</td>\n",
       "      <td>/Top of Personal Folders/symes-k/kate symes 6-...</td>\n",
       "    </tr>\n",
       "    <tr>\n",
       "      <th>7</th>\n",
       "      <td>{'title': 'kate_symes', 'accession_date': '201...</td>\n",
       "      <td>\"Mary Jane Symes\" &lt;marys@tvapdx.com&gt;</td>\n",
       "      <td>Help Save the Arctic Refuge</td>\n",
       "      <td>Body-Type: plain-text\\r\\n\\r\\nI just signed thi...</td>\n",
       "      <td>/Top of Personal Folders/symes-k/kate symes 6-...</td>\n",
       "    </tr>\n",
       "    <tr>\n",
       "      <th>8</th>\n",
       "      <td>{'title': 'kate_symes', 'accession_date': '201...</td>\n",
       "      <td>\"Mary Jane Symes\" &lt;marys@tvapdx.com&gt;</td>\n",
       "      <td>Help Save the Arctic Refuge</td>\n",
       "      <td>Body-Type: plain-text\\r\\n\\r\\nI just signed thi...</td>\n",
       "      <td>/Top of Personal Folders/symes-k/kate symes 6-...</td>\n",
       "    </tr>\n",
       "  </tbody>\n",
       "</table>\n",
       "</div>"
      ],
      "text/plain": [
       "                                          collection  \\\n",
       "0  {'title': 'kate_symes', 'accession_date': '201...   \n",
       "1  {'title': 'kate_symes', 'accession_date': '201...   \n",
       "2  {'title': 'kate_symes', 'accession_date': '201...   \n",
       "3  {'title': 'kate_symes', 'accession_date': '201...   \n",
       "4  {'title': 'kate_symes', 'accession_date': '201...   \n",
       "5  {'title': 'kate_symes', 'accession_date': '201...   \n",
       "6  {'title': 'kate_symes', 'accession_date': '201...   \n",
       "7  {'title': 'kate_symes', 'accession_date': '201...   \n",
       "8  {'title': 'kate_symes', 'accession_date': '201...   \n",
       "\n",
       "                               msg_from                  msg_subject  \\\n",
       "0                          \"Kate Symes\"                    Re: Help!   \n",
       "1                          \"Kate Symes\"                    Re: Help!   \n",
       "2                          \"Kate Symes\"                    Re: Help!   \n",
       "3                         \"Mark Confer\"                 Can You Help   \n",
       "4                         \"Mark Confer\"                 Can You Help   \n",
       "5                         \"Mark Confer\"                 Can You Help   \n",
       "6  \"Mary Jane Symes\" <marys@tvapdx.com>  Help Save the Arctic Refuge   \n",
       "7  \"Mary Jane Symes\" <marys@tvapdx.com>  Help Save the Arctic Refuge   \n",
       "8  \"Mary Jane Symes\" <marys@tvapdx.com>  Help Save the Arctic Refuge   \n",
       "\n",
       "                                            msg_body  \\\n",
       "0  Body-Type: plain-text\\r\\n\\r\\nWhatever she's ma...   \n",
       "1  Body-Type: plain-text\\r\\n\\r\\nWhatever she's ma...   \n",
       "2  Body-Type: plain-text\\r\\n\\r\\nWhatever she's ma...   \n",
       "3  Body-Type: plain-text\\r\\n\\r\\nKate, could you h...   \n",
       "4  Body-Type: plain-text\\r\\n\\r\\nKate, could you h...   \n",
       "5  Body-Type: plain-text\\r\\n\\r\\nKate, could you h...   \n",
       "6  Body-Type: plain-text\\r\\n\\r\\nI just signed thi...   \n",
       "7  Body-Type: plain-text\\r\\n\\r\\nI just signed thi...   \n",
       "8  Body-Type: plain-text\\r\\n\\r\\nI just signed thi...   \n",
       "\n",
       "                                           directory  \n",
       "0  /Top of Personal Folders/symes-k/kate symes 6-...  \n",
       "1  /Top of Personal Folders/symes-k/kate symes 6-...  \n",
       "2  /Top of Personal Folders/symes-k/kate symes 6-...  \n",
       "3  /Top of Personal Folders/symes-k/kate symes 6-...  \n",
       "4  /Top of Personal Folders/symes-k/kate symes 6-...  \n",
       "5  /Top of Personal Folders/symes-k/kate symes 6-...  \n",
       "6  /Top of Personal Folders/symes-k/kate symes 6-...  \n",
       "7  /Top of Personal Folders/symes-k/kate symes 6-...  \n",
       "8  /Top of Personal Folders/symes-k/kate symes 6-...  "
      ]
     },
     "execution_count": 139,
     "metadata": {},
     "output_type": "execute_result"
    }
   ],
   "source": [
    "results_df = pd.DataFrame((d.to_dict() for d in search[:10]))\n",
    "results_df"
   ]
  }
 ],
 "metadata": {
  "kernelspec": {
   "display_name": "Python 3",
   "language": "python",
   "name": "python3"
  },
  "language_info": {
   "codemirror_mode": {
    "name": "ipython",
    "version": 3
   },
   "file_extension": ".py",
   "mimetype": "text/x-python",
   "name": "python",
   "nbconvert_exporter": "python",
   "pygments_lexer": "ipython3",
   "version": "3.7.2"
  }
 },
 "nbformat": 4,
 "nbformat_minor": 4
}
