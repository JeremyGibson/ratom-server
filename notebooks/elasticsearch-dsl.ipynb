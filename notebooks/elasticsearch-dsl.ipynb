{
 "cells": [
  {
   "cell_type": "code",
   "execution_count": 1,
   "metadata": {},
   "outputs": [],
   "source": [
    "# Setup Notebook to load Django code\n",
    "# From project root, run: jupyter-lab\n",
    "\n",
    "import os\n",
    "import sys\n",
    "from pathlib import Path\n",
    "\n",
    "django_project_dir = Path('../')\n",
    "sys.path.insert(0, str(django_project_dir))\n",
    "os.environ.setdefault(\"DJANGO_SETTINGS_MODULE\", \"ratom_api.settings.local\")\n",
    "\n",
    "import django\n",
    "django.setup()"
   ]
  },
  {
   "cell_type": "code",
   "execution_count": 2,
   "metadata": {},
   "outputs": [],
   "source": [
    "import pandas as pd\n",
    "\n",
    "from elasticsearch_dsl import Q, FacetedSearch, TermsFacet, DateHistogramFacet\n",
    "\n",
    "from ratom.documents import MessageDocument"
   ]
  },
  {
   "cell_type": "markdown",
   "metadata": {},
   "source": [
    "# Start elasticsearch"
   ]
  },
  {
   "cell_type": "code",
   "execution_count": 3,
   "metadata": {},
   "outputs": [
    {
     "name": "stdout",
     "output_type": "stream",
     "text": [
      "Starting kibana ... \n",
      "Starting elasticsearch ... \n",
      "\u001b[2Bting kibana        ... \u001b[32mdone\u001b[0m\u001b[2A\u001b[2K"
     ]
    }
   ],
   "source": [
    "! docker-compose up -d elasticsearch kibana"
   ]
  },
  {
   "cell_type": "code",
   "execution_count": 4,
   "metadata": {},
   "outputs": [
    {
     "name": "stdout",
     "output_type": "stream",
     "text": [
      "    Name                  Command             State             Ports           \n",
      "--------------------------------------------------------------------------------\n",
      "elasticsearch   /usr/local/bin/docker-entr    Up      0.0.0.0:9200->9200/tcp,   \n",
      "                ...                                   0.0.0.0:9300->9300/tcp    \n",
      "kibana          /usr/local/bin/dumb-init -    Up      0.0.0.0:5601->5601/tcp    \n",
      "                ...                                                             \n"
     ]
    }
   ],
   "source": [
    "! docker-compose ps"
   ]
  },
  {
   "cell_type": "markdown",
   "metadata": {},
   "source": [
    "elasticsearch should be running at: http://localhost:9200/"
   ]
  },
  {
   "cell_type": "code",
   "execution_count": null,
   "metadata": {},
   "outputs": [],
   "source": [
    "# If it doesn't start.. look at logs:\n",
    "\n",
    "! docker-compose logs elasticsearch"
   ]
  },
  {
   "cell_type": "markdown",
   "metadata": {},
   "source": [
    "## Re-build index\n",
    "\n",
    "https://django-elasticsearch-dsl.readthedocs.io/en/latest/quickstart.html#populate"
   ]
  },
  {
   "cell_type": "code",
   "execution_count": null,
   "metadata": {},
   "outputs": [
    {
     "name": "stdout",
     "output_type": "stream",
     "text": [
      "Deleting index '<elasticsearch_dsl.index.Index object at 0x11120e4a8>'\n",
      "2019-12-02 09:15:09,902 elasticsearch        INFO     DELETE http://localhost:9200/message [status:200 request:0.745s]\n",
      "Creating index '<elasticsearch_dsl.index.Index object at 0x11120e4a8>'\n",
      "2019-12-02 09:15:10,088 elasticsearch        INFO     PUT http://localhost:9200/message [status:200 request:0.186s]\n",
      "Indexing 100818 'Message' objects (parallel)\n",
      "2019-12-02 09:15:14,767 elasticsearch        INFO     POST http://localhost:9200/_bulk?refresh=true [status:200 request:0.159s]\n",
      "2019-12-02 09:15:15,158 elasticsearch        INFO     POST http://localhost:9200/_bulk?refresh=true [status:200 request:0.170s]\n",
      "2019-12-02 09:15:15,566 elasticsearch        INFO     POST http://localhost:9200/_bulk?refresh=true [status:200 request:0.185s]\n",
      "2019-12-02 09:15:15,992 elasticsearch        INFO     POST http://localhost:9200/_bulk?refresh=true [status:200 request:0.183s]\n",
      "2019-12-02 09:15:16,352 elasticsearch        INFO     POST http://localhost:9200/_bulk?refresh=true [status:200 request:0.158s]\n",
      "2019-12-02 09:15:16,774 elasticsearch        INFO     POST http://localhost:9200/_bulk?refresh=true [status:200 request:0.183s]\n",
      "2019-12-02 09:15:17,192 elasticsearch        INFO     POST http://localhost:9200/_bulk?refresh=true [status:200 request:0.222s]\n",
      "2019-12-02 09:15:17,710 elasticsearch        INFO     POST http://localhost:9200/_bulk?refresh=true [status:200 request:0.248s]\n",
      "2019-12-02 09:15:18,075 elasticsearch        INFO     POST http://localhost:9200/_bulk?refresh=true [status:200 request:0.189s]\n",
      "2019-12-02 09:15:18,453 elasticsearch        INFO     POST http://localhost:9200/_bulk?refresh=true [status:200 request:0.190s]\n",
      "2019-12-02 09:15:18,805 elasticsearch        INFO     POST http://localhost:9200/_bulk?refresh=true [status:200 request:0.164s]\n",
      "2019-12-02 09:15:19,196 elasticsearch        INFO     POST http://localhost:9200/_bulk?refresh=true [status:200 request:0.167s]\n",
      "2019-12-02 09:15:19,589 elasticsearch        INFO     POST http://localhost:9200/_bulk?refresh=true [status:200 request:0.191s]\n",
      "2019-12-02 09:15:19,967 elasticsearch        INFO     POST http://localhost:9200/_bulk?refresh=true [status:200 request:0.176s]\n",
      "2019-12-02 09:15:20,441 elasticsearch        INFO     POST http://localhost:9200/_bulk?refresh=true [status:200 request:0.279s]\n",
      "2019-12-02 09:15:20,861 elasticsearch        INFO     POST http://localhost:9200/_bulk?refresh=true [status:200 request:0.141s]\n",
      "2019-12-02 09:15:21,404 elasticsearch        INFO     POST http://localhost:9200/_bulk?refresh=true [status:200 request:0.251s]\n",
      "2019-12-02 09:15:21,815 elasticsearch        INFO     POST http://localhost:9200/_bulk?refresh=true [status:200 request:0.199s]\n",
      "2019-12-02 09:15:22,174 elasticsearch        INFO     POST http://localhost:9200/_bulk?refresh=true [status:200 request:0.137s]\n",
      "2019-12-02 09:15:22,838 elasticsearch        INFO     POST http://localhost:9200/_bulk?refresh=true [status:200 request:0.129s]\n",
      "2019-12-02 09:15:23,536 elasticsearch        INFO     POST http://localhost:9200/_bulk?refresh=true [status:200 request:0.407s]\n",
      "2019-12-02 09:15:23,909 elasticsearch        INFO     POST http://localhost:9200/_bulk?refresh=true [status:200 request:0.106s]\n",
      "2019-12-02 09:15:24,316 elasticsearch        INFO     POST http://localhost:9200/_bulk?refresh=true [status:200 request:0.114s]\n",
      "2019-12-02 09:15:24,841 elasticsearch        INFO     POST http://localhost:9200/_bulk?refresh=true [status:200 request:0.136s]\n",
      "2019-12-02 09:15:25,228 elasticsearch        INFO     POST http://localhost:9200/_bulk?refresh=true [status:200 request:0.135s]\n",
      "2019-12-02 09:15:25,657 elasticsearch        INFO     POST http://localhost:9200/_bulk?refresh=true [status:200 request:0.186s]\n",
      "2019-12-02 09:15:26,017 elasticsearch        INFO     POST http://localhost:9200/_bulk?refresh=true [status:200 request:0.145s]\n",
      "2019-12-02 09:15:26,560 elasticsearch        INFO     POST http://localhost:9200/_bulk?refresh=true [status:200 request:0.230s]\n",
      "2019-12-02 09:15:27,032 elasticsearch        INFO     POST http://localhost:9200/_bulk?refresh=true [status:200 request:0.203s]\n",
      "2019-12-02 09:15:27,421 elasticsearch        INFO     POST http://localhost:9200/_bulk?refresh=true [status:200 request:0.146s]\n",
      "2019-12-02 09:15:27,781 elasticsearch        INFO     POST http://localhost:9200/_bulk?refresh=true [status:200 request:0.109s]\n",
      "2019-12-02 09:15:28,230 elasticsearch        INFO     POST http://localhost:9200/_bulk?refresh=true [status:200 request:0.141s]\n",
      "2019-12-02 09:15:28,670 elasticsearch        INFO     POST http://localhost:9200/_bulk?refresh=true [status:200 request:0.150s]\n",
      "2019-12-02 09:15:29,079 elasticsearch        INFO     POST http://localhost:9200/_bulk?refresh=true [status:200 request:0.157s]\n",
      "2019-12-02 09:15:29,491 elasticsearch        INFO     POST http://localhost:9200/_bulk?refresh=true [status:200 request:0.183s]\n",
      "2019-12-02 09:15:29,881 elasticsearch        INFO     POST http://localhost:9200/_bulk?refresh=true [status:200 request:0.162s]\n",
      "2019-12-02 09:15:30,293 elasticsearch        INFO     POST http://localhost:9200/_bulk?refresh=true [status:200 request:0.172s]\n",
      "2019-12-02 09:15:30,712 elasticsearch        INFO     POST http://localhost:9200/_bulk?refresh=true [status:200 request:0.195s]\n",
      "2019-12-02 09:15:31,111 elasticsearch        INFO     POST http://localhost:9200/_bulk?refresh=true [status:200 request:0.182s]\n",
      "2019-12-02 09:15:31,542 elasticsearch        INFO     POST http://localhost:9200/_bulk?refresh=true [status:200 request:0.171s]\n",
      "2019-12-02 09:15:31,951 elasticsearch        INFO     POST http://localhost:9200/_bulk?refresh=true [status:200 request:0.188s]\n",
      "2019-12-02 09:15:32,372 elasticsearch        INFO     POST http://localhost:9200/_bulk?refresh=true [status:200 request:0.191s]\n",
      "2019-12-02 09:15:32,797 elasticsearch        INFO     POST http://localhost:9200/_bulk?refresh=true [status:200 request:0.187s]\n",
      "2019-12-02 09:15:33,192 elasticsearch        INFO     POST http://localhost:9200/_bulk?refresh=true [status:200 request:0.178s]\n",
      "2019-12-02 09:15:33,477 elasticsearch        INFO     POST http://localhost:9200/_bulk?refresh=true [status:200 request:0.093s]\n",
      "2019-12-02 09:15:33,899 elasticsearch        INFO     POST http://localhost:9200/_bulk?refresh=true [status:200 request:0.112s]\n",
      "2019-12-02 09:15:34,264 elasticsearch        INFO     POST http://localhost:9200/_bulk?refresh=true [status:200 request:0.094s]\n",
      "2019-12-02 09:15:34,723 elasticsearch        INFO     POST http://localhost:9200/_bulk?refresh=true [status:200 request:0.149s]\n",
      "2019-12-02 09:15:35,141 elasticsearch        INFO     POST http://localhost:9200/_bulk?refresh=true [status:200 request:0.200s]\n",
      "2019-12-02 09:15:35,522 elasticsearch        INFO     POST http://localhost:9200/_bulk?refresh=true [status:200 request:0.191s]\n",
      "2019-12-02 09:15:35,938 elasticsearch        INFO     POST http://localhost:9200/_bulk?refresh=true [status:200 request:0.221s]\n",
      "2019-12-02 09:15:36,309 elasticsearch        INFO     POST http://localhost:9200/_bulk?refresh=true [status:200 request:0.184s]\n",
      "2019-12-02 09:15:36,688 elasticsearch        INFO     POST http://localhost:9200/_bulk?refresh=true [status:200 request:0.179s]\n",
      "2019-12-02 09:15:37,077 elasticsearch        INFO     POST http://localhost:9200/_bulk?refresh=true [status:200 request:0.202s]\n",
      "2019-12-02 09:15:37,306 elasticsearch        INFO     POST http://localhost:9200/_bulk?refresh=true [status:200 request:0.074s]\n",
      "2019-12-02 09:15:37,796 elasticsearch        INFO     POST http://localhost:9200/_bulk?refresh=true [status:200 request:0.084s]\n",
      "2019-12-02 09:15:38,138 elasticsearch        INFO     POST http://localhost:9200/_bulk?refresh=true [status:200 request:0.056s]\n",
      "2019-12-02 09:15:38,539 elasticsearch        INFO     POST http://localhost:9200/_bulk?refresh=true [status:200 request:0.072s]\n",
      "2019-12-02 09:15:38,975 elasticsearch        INFO     POST http://localhost:9200/_bulk?refresh=true [status:200 request:0.118s]\n",
      "2019-12-02 09:15:39,441 elasticsearch        INFO     POST http://localhost:9200/_bulk?refresh=true [status:200 request:0.174s]\n",
      "2019-12-02 09:15:39,879 elasticsearch        INFO     POST http://localhost:9200/_bulk?refresh=true [status:200 request:0.196s]\n",
      "2019-12-02 09:15:40,292 elasticsearch        INFO     POST http://localhost:9200/_bulk?refresh=true [status:200 request:0.228s]\n",
      "2019-12-02 09:15:40,781 elasticsearch        INFO     POST http://localhost:9200/_bulk?refresh=true [status:200 request:0.300s]\n",
      "2019-12-02 09:15:41,112 elasticsearch        INFO     POST http://localhost:9200/_bulk?refresh=true [status:200 request:0.215s]\n",
      "2019-12-02 09:15:41,489 elasticsearch        INFO     POST http://localhost:9200/_bulk?refresh=true [status:200 request:0.177s]\n",
      "2019-12-02 09:15:41,894 elasticsearch        INFO     POST http://localhost:9200/_bulk?refresh=true [status:200 request:0.203s]\n",
      "2019-12-02 09:15:42,266 elasticsearch        INFO     POST http://localhost:9200/_bulk?refresh=true [status:200 request:0.182s]\n",
      "2019-12-02 09:15:42,632 elasticsearch        INFO     POST http://localhost:9200/_bulk?refresh=true [status:200 request:0.064s]\n",
      "2019-12-02 09:15:42,991 elasticsearch        INFO     POST http://localhost:9200/_bulk?refresh=true [status:200 request:0.055s]\n",
      "2019-12-02 09:15:43,345 elasticsearch        INFO     POST http://localhost:9200/_bulk?refresh=true [status:200 request:0.061s]\n",
      "2019-12-02 09:15:43,742 elasticsearch        INFO     POST http://localhost:9200/_bulk?refresh=true [status:200 request:0.075s]\n",
      "2019-12-02 09:15:44,225 elasticsearch        INFO     POST http://localhost:9200/_bulk?refresh=true [status:200 request:0.167s]\n",
      "2019-12-02 09:15:44,673 elasticsearch        INFO     POST http://localhost:9200/_bulk?refresh=true [status:200 request:0.199s]\n",
      "2019-12-02 09:15:45,055 elasticsearch        INFO     POST http://localhost:9200/_bulk?refresh=true [status:200 request:0.179s]\n",
      "2019-12-02 09:15:45,681 elasticsearch        INFO     POST http://localhost:9200/_bulk?refresh=true [status:200 request:0.240s]\n",
      "2019-12-02 09:15:46,444 elasticsearch        INFO     POST http://localhost:9200/_bulk?refresh=true [status:200 request:0.311s]\n",
      "2019-12-02 09:15:46,934 elasticsearch        INFO     POST http://localhost:9200/_bulk?refresh=true [status:200 request:0.219s]\n",
      "2019-12-02 09:15:47,371 elasticsearch        INFO     POST http://localhost:9200/_bulk?refresh=true [status:200 request:0.198s]\n",
      "2019-12-02 09:15:47,785 elasticsearch        INFO     POST http://localhost:9200/_bulk?refresh=true [status:200 request:0.183s]\n",
      "2019-12-02 09:15:48,218 elasticsearch        INFO     POST http://localhost:9200/_bulk?refresh=true [status:200 request:0.200s]\n",
      "2019-12-02 09:15:48,606 elasticsearch        INFO     POST http://localhost:9200/_bulk?refresh=true [status:200 request:0.187s]\n",
      "2019-12-02 09:15:49,071 elasticsearch        INFO     POST http://localhost:9200/_bulk?refresh=true [status:200 request:0.198s]\n",
      "2019-12-02 09:15:49,429 elasticsearch        INFO     POST http://localhost:9200/_bulk?refresh=true [status:200 request:0.111s]\n",
      "2019-12-02 09:15:49,986 elasticsearch        INFO     POST http://localhost:9200/_bulk?refresh=true [status:200 request:0.131s]\n",
      "2019-12-02 09:15:50,578 elasticsearch        INFO     POST http://localhost:9200/_bulk?refresh=true [status:200 request:0.284s]\n",
      "2019-12-02 09:15:51,028 elasticsearch        INFO     POST http://localhost:9200/_bulk?refresh=true [status:200 request:0.191s]\n",
      "2019-12-02 09:15:51,476 elasticsearch        INFO     POST http://localhost:9200/_bulk?refresh=true [status:200 request:0.191s]\n",
      "2019-12-02 09:15:51,920 elasticsearch        INFO     POST http://localhost:9200/_bulk?refresh=true [status:200 request:0.206s]\n",
      "2019-12-02 09:15:52,241 elasticsearch        INFO     POST http://localhost:9200/_bulk?refresh=true [status:200 request:0.144s]\n",
      "2019-12-02 09:15:52,715 elasticsearch        INFO     POST http://localhost:9200/_bulk?refresh=true [status:200 request:0.226s]\n",
      "2019-12-02 09:15:53,172 elasticsearch        INFO     POST http://localhost:9200/_bulk?refresh=true [status:200 request:0.271s]\n",
      "2019-12-02 09:15:53,697 elasticsearch        INFO     POST http://localhost:9200/_bulk?refresh=true [status:200 request:0.315s]\n",
      "2019-12-02 09:15:54,065 elasticsearch        INFO     POST http://localhost:9200/_bulk?refresh=true [status:200 request:0.228s]\n",
      "2019-12-02 09:15:54,407 elasticsearch        INFO     POST http://localhost:9200/_bulk?refresh=true [status:200 request:0.151s]\n",
      "2019-12-02 09:15:54,836 elasticsearch        INFO     POST http://localhost:9200/_bulk?refresh=true [status:200 request:0.158s]\n",
      "2019-12-02 09:15:55,255 elasticsearch        INFO     POST http://localhost:9200/_bulk?refresh=true [status:200 request:0.144s]\n"
     ]
    }
   ],
   "source": [
    "! time python ../manage.py search_index -f --rebuild --parallel"
   ]
  },
  {
   "cell_type": "markdown",
   "metadata": {},
   "source": [
    "# Match"
   ]
  },
  {
   "cell_type": "code",
   "execution_count": 4,
   "metadata": {},
   "outputs": [
    {
     "data": {
      "text/plain": [
       "<django_elasticsearch_dsl.search.Search at 0x11f88fc50>"
      ]
     },
     "execution_count": 4,
     "metadata": {},
     "output_type": "execute_result"
    }
   ],
   "source": [
    "# https://django-elasticsearch-dsl.readthedocs.io/en/latest/quickstart.html#search\n",
    "\n",
    "search = MessageDocument.search().filter(\"match\", msg_subject=\"help\")\n",
    "search"
   ]
  },
  {
   "cell_type": "markdown",
   "metadata": {},
   "source": [
    "## Count"
   ]
  },
  {
   "cell_type": "code",
   "execution_count": 5,
   "metadata": {},
   "outputs": [
    {
     "name": "stderr",
     "output_type": "stream",
     "text": [
      "2019-12-02 09:27:43,365 elasticsearch        INFO     GET http://localhost:9200/message/_count [status:200 request:0.014s]\n"
     ]
    },
    {
     "data": {
      "text/plain": [
       "90"
      ]
     },
     "execution_count": 5,
     "metadata": {},
     "output_type": "execute_result"
    }
   ],
   "source": [
    "search.count()"
   ]
  },
  {
   "cell_type": "code",
   "execution_count": 6,
   "metadata": {},
   "outputs": [
    {
     "name": "stderr",
     "output_type": "stream",
     "text": [
      "2019-12-02 09:27:44,405 elasticsearch        INFO     GET http://localhost:9200/message/_search [status:200 request:0.014s]\n"
     ]
    }
   ],
   "source": [
    "response = search.execute()"
   ]
  },
  {
   "cell_type": "code",
   "execution_count": 7,
   "metadata": {},
   "outputs": [
    {
     "data": {
      "text/plain": [
       "{'value': 90, 'relation': 'eq'}"
      ]
     },
     "execution_count": 7,
     "metadata": {},
     "output_type": "execute_result"
    }
   ],
   "source": [
    "# how is this different from search.count()?\n",
    "response.hits.total"
   ]
  },
  {
   "cell_type": "code",
   "execution_count": 8,
   "metadata": {},
   "outputs": [
    {
     "data": {
      "text/plain": [
       "10"
      ]
     },
     "execution_count": 8,
     "metadata": {},
     "output_type": "execute_result"
    }
   ],
   "source": [
    "response.took"
   ]
  },
  {
   "cell_type": "markdown",
   "metadata": {},
   "source": [
    "## Response"
   ]
  },
  {
   "cell_type": "code",
   "execution_count": 9,
   "metadata": {},
   "outputs": [
    {
     "name": "stdout",
     "output_type": "stream",
     "text": [
      "\"Help Millions\" - Pledge Today!\n",
      "Help with statistical analysis\n",
      "Thanks for your help!!\n",
      "FW: HELP!!! I'VE FAINTED AND I CAN'T COME TO!!!!!\n",
      "\"Help Millions\" - Pledge Today!\n",
      "Help on cluster analysis\n",
      "Re: Info help.\n",
      "Help on DPC LNG Options\n",
      "Fwd: Please, help\n",
      "Help with the Tiger Team\n"
     ]
    }
   ],
   "source": [
    "# simple using response\n",
    "for msg in response[:10]:\n",
    "    print(msg.msg_subject)"
   ]
  },
  {
   "cell_type": "code",
   "execution_count": 10,
   "metadata": {},
   "outputs": [
    {
     "name": "stderr",
     "output_type": "stream",
     "text": [
      "2019-12-02 09:27:52,557 elasticsearch        INFO     GET http://localhost:9200/message/_search [status:200 request:0.005s]\n"
     ]
    },
    {
     "data": {
      "text/html": [
       "<div>\n",
       "<style scoped>\n",
       "    .dataframe tbody tr th:only-of-type {\n",
       "        vertical-align: middle;\n",
       "    }\n",
       "\n",
       "    .dataframe tbody tr th {\n",
       "        vertical-align: top;\n",
       "    }\n",
       "\n",
       "    .dataframe thead th {\n",
       "        text-align: right;\n",
       "    }\n",
       "</style>\n",
       "<table border=\"1\" class=\"dataframe\">\n",
       "  <thead>\n",
       "    <tr style=\"text-align: right;\">\n",
       "      <th></th>\n",
       "      <th>collection</th>\n",
       "      <th>msg_from</th>\n",
       "      <th>msg_subject</th>\n",
       "      <th>msg_body</th>\n",
       "      <th>directory</th>\n",
       "    </tr>\n",
       "  </thead>\n",
       "  <tbody>\n",
       "    <tr>\n",
       "      <th>0</th>\n",
       "      <td>{'title': 'vkaminski', 'accession_date': 2019-...</td>\n",
       "      <td>\"Zulie Flores\"</td>\n",
       "      <td>\"Help Millions\" - Pledge Today!</td>\n",
       "      <td>date: Fri, 4 Aug 2000 16:08:00 -0700 (PDT) Fri...</td>\n",
       "      <td>/Top of Personal Folders/test/Vincent_Kaminski...</td>\n",
       "    </tr>\n",
       "    <tr>\n",
       "      <th>1</th>\n",
       "      <td>{'title': 'vkaminski', 'accession_date': 2019-...</td>\n",
       "      <td>\"Vince J Kaminski\"</td>\n",
       "      <td>Help with statistical analysis</td>\n",
       "      <td>Date: Thu, 20 Apr 2000 08:05:00 -0700 (PDT),Th...</td>\n",
       "      <td>/Top of Personal Folders/test/Vincent_Kaminski...</td>\n",
       "    </tr>\n",
       "    <tr>\n",
       "      <th>2</th>\n",
       "      <td>{'title': 'vkaminski', 'accession_date': 2019-...</td>\n",
       "      <td>\"Bridget D'Silva\"</td>\n",
       "      <td>Thanks for your help!!</td>\n",
       "      <td>Date: Fri, 11 Feb 2000 15:05:00 -0800 (PST),Fr...</td>\n",
       "      <td>/Top of Personal Folders/test/Vincent_Kaminski...</td>\n",
       "    </tr>\n",
       "    <tr>\n",
       "      <th>3</th>\n",
       "      <td>{'title': 'dana_davis', 'accession_date': 2019...</td>\n",
       "      <td>Davis</td>\n",
       "      <td>FW: HELP!!! I'VE FAINTED AND I CAN'T COME TO!!!!!</td>\n",
       "      <td>Date: Mon, 8 Oct 2001 21:57:25 -0700 (PDT),Mon...</td>\n",
       "      <td>/Top of Personal Folders/davis-d/DDAVIS (Non-P...</td>\n",
       "    </tr>\n",
       "    <tr>\n",
       "      <th>4</th>\n",
       "      <td>{'title': 'vkaminski', 'accession_date': 2019-...</td>\n",
       "      <td>\"Zulie Flores\"</td>\n",
       "      <td>\"Help Millions\" - Pledge Today!</td>\n",
       "      <td>date: Fri, 4 Aug 2000 16:08:00 -0700 (PDT) Fri...</td>\n",
       "      <td>/Top of Personal Folders/kaminski-v/Vincent_Ka...</td>\n",
       "    </tr>\n",
       "    <tr>\n",
       "      <th>5</th>\n",
       "      <td>{'title': 'vkaminski', 'accession_date': 2019-...</td>\n",
       "      <td>\"Lance Cunningham\"</td>\n",
       "      <td>Help on cluster analysis</td>\n",
       "      <td>date: Thu, 22 Mar 2001 14:45:00 -0800 (PST) Th...</td>\n",
       "      <td>/Top of Personal Folders/kaminski-v/Vincent_Ka...</td>\n",
       "    </tr>\n",
       "    <tr>\n",
       "      <th>6</th>\n",
       "      <td>{'title': 'vkaminski', 'accession_date': 2019-...</td>\n",
       "      <td>\"Vince J Kaminski\"</td>\n",
       "      <td>Re: Info help.</td>\n",
       "      <td>date: Tue, 15 Aug 2000 17:51:00 -0700 (PDT) Tu...</td>\n",
       "      <td>/Top of Personal Folders/kaminski-v/Vincent_Ka...</td>\n",
       "    </tr>\n",
       "    <tr>\n",
       "      <th>7</th>\n",
       "      <td>{'title': 'vkaminski', 'accession_date': 2019-...</td>\n",
       "      <td>\"Vince J Kaminski\"</td>\n",
       "      <td>Help on DPC LNG Options</td>\n",
       "      <td>date: Mon, 12 Mar 2001 17:07:00 -0800 (PST) Mo...</td>\n",
       "      <td>/Top of Personal Folders/kaminski-v/Vincent_Ka...</td>\n",
       "    </tr>\n",
       "    <tr>\n",
       "      <th>8</th>\n",
       "      <td>{'title': 'vkaminski', 'accession_date': 2019-...</td>\n",
       "      <td>VKaminski@aol.com</td>\n",
       "      <td>Fwd: Please, help</td>\n",
       "      <td>date: Mon, 9 Apr 2001 23:12:00 -0700 (PDT) Mon...</td>\n",
       "      <td>/Top of Personal Folders/kaminski-v/Vincent_Ka...</td>\n",
       "    </tr>\n",
       "    <tr>\n",
       "      <th>9</th>\n",
       "      <td>{'title': 'vkaminski', 'accession_date': 2019-...</td>\n",
       "      <td>\"Vince J Kaminski\"</td>\n",
       "      <td>Help with the Tiger Team</td>\n",
       "      <td>Date: Thu, 11 Jan 2001 09:51:00 -0800 (PST),Th...</td>\n",
       "      <td>/Top of Personal Folders/kaminski-v/Vincent_Ka...</td>\n",
       "    </tr>\n",
       "  </tbody>\n",
       "</table>\n",
       "</div>"
      ],
      "text/plain": [
       "                                          collection            msg_from  \\\n",
       "0  {'title': 'vkaminski', 'accession_date': 2019-...      \"Zulie Flores\"   \n",
       "1  {'title': 'vkaminski', 'accession_date': 2019-...  \"Vince J Kaminski\"   \n",
       "2  {'title': 'vkaminski', 'accession_date': 2019-...   \"Bridget D'Silva\"   \n",
       "3  {'title': 'dana_davis', 'accession_date': 2019...               Davis   \n",
       "4  {'title': 'vkaminski', 'accession_date': 2019-...      \"Zulie Flores\"   \n",
       "5  {'title': 'vkaminski', 'accession_date': 2019-...  \"Lance Cunningham\"   \n",
       "6  {'title': 'vkaminski', 'accession_date': 2019-...  \"Vince J Kaminski\"   \n",
       "7  {'title': 'vkaminski', 'accession_date': 2019-...  \"Vince J Kaminski\"   \n",
       "8  {'title': 'vkaminski', 'accession_date': 2019-...   VKaminski@aol.com   \n",
       "9  {'title': 'vkaminski', 'accession_date': 2019-...  \"Vince J Kaminski\"   \n",
       "\n",
       "                                         msg_subject  \\\n",
       "0                    \"Help Millions\" - Pledge Today!   \n",
       "1                     Help with statistical analysis   \n",
       "2                             Thanks for your help!!   \n",
       "3  FW: HELP!!! I'VE FAINTED AND I CAN'T COME TO!!!!!   \n",
       "4                    \"Help Millions\" - Pledge Today!   \n",
       "5                           Help on cluster analysis   \n",
       "6                                     Re: Info help.   \n",
       "7                            Help on DPC LNG Options   \n",
       "8                                  Fwd: Please, help   \n",
       "9                           Help with the Tiger Team   \n",
       "\n",
       "                                            msg_body  \\\n",
       "0  date: Fri, 4 Aug 2000 16:08:00 -0700 (PDT) Fri...   \n",
       "1  Date: Thu, 20 Apr 2000 08:05:00 -0700 (PDT),Th...   \n",
       "2  Date: Fri, 11 Feb 2000 15:05:00 -0800 (PST),Fr...   \n",
       "3  Date: Mon, 8 Oct 2001 21:57:25 -0700 (PDT),Mon...   \n",
       "4  date: Fri, 4 Aug 2000 16:08:00 -0700 (PDT) Fri...   \n",
       "5  date: Thu, 22 Mar 2001 14:45:00 -0800 (PST) Th...   \n",
       "6  date: Tue, 15 Aug 2000 17:51:00 -0700 (PDT) Tu...   \n",
       "7  date: Mon, 12 Mar 2001 17:07:00 -0800 (PST) Mo...   \n",
       "8  date: Mon, 9 Apr 2001 23:12:00 -0700 (PDT) Mon...   \n",
       "9  Date: Thu, 11 Jan 2001 09:51:00 -0800 (PST),Th...   \n",
       "\n",
       "                                           directory  \n",
       "0  /Top of Personal Folders/test/Vincent_Kaminski...  \n",
       "1  /Top of Personal Folders/test/Vincent_Kaminski...  \n",
       "2  /Top of Personal Folders/test/Vincent_Kaminski...  \n",
       "3  /Top of Personal Folders/davis-d/DDAVIS (Non-P...  \n",
       "4  /Top of Personal Folders/kaminski-v/Vincent_Ka...  \n",
       "5  /Top of Personal Folders/kaminski-v/Vincent_Ka...  \n",
       "6  /Top of Personal Folders/kaminski-v/Vincent_Ka...  \n",
       "7  /Top of Personal Folders/kaminski-v/Vincent_Ka...  \n",
       "8  /Top of Personal Folders/kaminski-v/Vincent_Ka...  \n",
       "9  /Top of Personal Folders/kaminski-v/Vincent_Ka...  "
      ]
     },
     "execution_count": 10,
     "metadata": {},
     "output_type": "execute_result"
    }
   ],
   "source": [
    "# using pandas\n",
    "results_df = pd.DataFrame((d.to_dict() for d in search[:10]))\n",
    "results_df"
   ]
  },
  {
   "cell_type": "markdown",
   "metadata": {},
   "source": [
    "## Multi-match\n",
    "\n",
    "https://elasticsearch-dsl.readthedocs.io/en/latest/search_dsl.html#queries"
   ]
  },
  {
   "cell_type": "code",
   "execution_count": 11,
   "metadata": {},
   "outputs": [
    {
     "data": {
      "text/plain": [
       "Bool(must=[Match(msg_subject='help'), Match(collection__title='kate_symes')])"
      ]
     },
     "execution_count": 11,
     "metadata": {},
     "output_type": "execute_result"
    }
   ],
   "source": [
    "q = Q(\"match\", msg_subject='help') & Q(\"match\", collection__title=\"kate_symes\")\n",
    "q"
   ]
  },
  {
   "cell_type": "code",
   "execution_count": 12,
   "metadata": {},
   "outputs": [
    {
     "name": "stderr",
     "output_type": "stream",
     "text": [
      "2019-12-02 09:27:55,560 elasticsearch        INFO     GET http://localhost:9200/message/_search [status:200 request:0.013s]\n"
     ]
    },
    {
     "data": {
      "text/plain": [
       "9"
      ]
     },
     "execution_count": 12,
     "metadata": {},
     "output_type": "execute_result"
    }
   ],
   "source": [
    "search = MessageDocument.search().query(q)\n",
    "response = search.execute()\n",
    "search.count()"
   ]
  },
  {
   "cell_type": "code",
   "execution_count": 13,
   "metadata": {},
   "outputs": [
    {
     "name": "stderr",
     "output_type": "stream",
     "text": [
      "2019-12-02 09:27:55,916 elasticsearch        INFO     GET http://localhost:9200/message/_search [status:200 request:0.007s]\n"
     ]
    },
    {
     "data": {
      "text/html": [
       "<div>\n",
       "<style scoped>\n",
       "    .dataframe tbody tr th:only-of-type {\n",
       "        vertical-align: middle;\n",
       "    }\n",
       "\n",
       "    .dataframe tbody tr th {\n",
       "        vertical-align: top;\n",
       "    }\n",
       "\n",
       "    .dataframe thead th {\n",
       "        text-align: right;\n",
       "    }\n",
       "</style>\n",
       "<table border=\"1\" class=\"dataframe\">\n",
       "  <thead>\n",
       "    <tr style=\"text-align: right;\">\n",
       "      <th></th>\n",
       "      <th>collection</th>\n",
       "      <th>labels</th>\n",
       "      <th>msg_from</th>\n",
       "      <th>msg_subject</th>\n",
       "      <th>msg_body</th>\n",
       "      <th>directory</th>\n",
       "    </tr>\n",
       "  </thead>\n",
       "  <tbody>\n",
       "    <tr>\n",
       "      <th>0</th>\n",
       "      <td>{'title': 'kate_symes', 'accession_date': 2019...</td>\n",
       "      <td>[FAC, NORP, MONEY, ORG, CARDINAL, LOC, DATE, P...</td>\n",
       "      <td>\"Kate Symes\"</td>\n",
       "      <td>Re: Help!</td>\n",
       "      <td>Body-Type: plain-text\\r\\n\\r\\nWhatever she's ma...</td>\n",
       "      <td>/Top of Personal Folders/symes-k/kate symes 6-...</td>\n",
       "    </tr>\n",
       "    <tr>\n",
       "      <th>1</th>\n",
       "      <td>{'title': 'kate_symes', 'accession_date': 2019...</td>\n",
       "      <td>[FAC, NORP, MONEY, ORG, CARDINAL, LOC, DATE, P...</td>\n",
       "      <td>\"Kate Symes\"</td>\n",
       "      <td>Re: Help!</td>\n",
       "      <td>Body-Type: plain-text\\r\\n\\r\\nWhatever she's ma...</td>\n",
       "      <td>/Top of Personal Folders/symes-k/kate symes 6-...</td>\n",
       "    </tr>\n",
       "    <tr>\n",
       "      <th>2</th>\n",
       "      <td>{'title': 'kate_symes', 'accession_date': 2019...</td>\n",
       "      <td>[FAC, NORP, MONEY, ORG, CARDINAL, LOC, DATE, P...</td>\n",
       "      <td>\"Kate Symes\"</td>\n",
       "      <td>Re: Help!</td>\n",
       "      <td>Body-Type: plain-text\\r\\n\\r\\nWhatever she's ma...</td>\n",
       "      <td>/Top of Personal Folders/symes-k/kate symes 6-...</td>\n",
       "    </tr>\n",
       "    <tr>\n",
       "      <th>3</th>\n",
       "      <td>{'title': 'kate_symes', 'accession_date': 2019...</td>\n",
       "      <td>[MONEY, ORG, CARDINAL, PERSON, GPE]</td>\n",
       "      <td>\"Mark Confer\"</td>\n",
       "      <td>Can You Help</td>\n",
       "      <td>Body-Type: plain-text\\r\\n\\r\\nKate, could you h...</td>\n",
       "      <td>/Top of Personal Folders/symes-k/kate symes 6-...</td>\n",
       "    </tr>\n",
       "    <tr>\n",
       "      <th>4</th>\n",
       "      <td>{'title': 'kate_symes', 'accession_date': 2019...</td>\n",
       "      <td>[MONEY, ORG, CARDINAL, PERSON, GPE]</td>\n",
       "      <td>\"Mark Confer\"</td>\n",
       "      <td>Can You Help</td>\n",
       "      <td>Body-Type: plain-text\\r\\n\\r\\nKate, could you h...</td>\n",
       "      <td>/Top of Personal Folders/symes-k/kate symes 6-...</td>\n",
       "    </tr>\n",
       "    <tr>\n",
       "      <th>5</th>\n",
       "      <td>{'title': 'kate_symes', 'accession_date': 2019...</td>\n",
       "      <td>[MONEY, ORG, CARDINAL, PERSON, GPE]</td>\n",
       "      <td>\"Mark Confer\"</td>\n",
       "      <td>Can You Help</td>\n",
       "      <td>Body-Type: plain-text\\r\\n\\r\\nKate, could you h...</td>\n",
       "      <td>/Top of Personal Folders/symes-k/kate symes 6-...</td>\n",
       "    </tr>\n",
       "    <tr>\n",
       "      <th>6</th>\n",
       "      <td>{'title': 'kate_symes', 'accession_date': 2019...</td>\n",
       "      <td>[ORG, CARDINAL, LOC, PERSON, GPE]</td>\n",
       "      <td>\"Mary Jane Symes\" &lt;marys@tvapdx.com&gt;</td>\n",
       "      <td>Help Save the Arctic Refuge</td>\n",
       "      <td>Body-Type: plain-text\\r\\n\\r\\nI just signed thi...</td>\n",
       "      <td>/Top of Personal Folders/symes-k/kate symes 6-...</td>\n",
       "    </tr>\n",
       "    <tr>\n",
       "      <th>7</th>\n",
       "      <td>{'title': 'kate_symes', 'accession_date': 2019...</td>\n",
       "      <td>[ORG, CARDINAL, LOC, PERSON, GPE]</td>\n",
       "      <td>\"Mary Jane Symes\" &lt;marys@tvapdx.com&gt;</td>\n",
       "      <td>Help Save the Arctic Refuge</td>\n",
       "      <td>Body-Type: plain-text\\r\\n\\r\\nI just signed thi...</td>\n",
       "      <td>/Top of Personal Folders/symes-k/kate symes 6-...</td>\n",
       "    </tr>\n",
       "    <tr>\n",
       "      <th>8</th>\n",
       "      <td>{'title': 'kate_symes', 'accession_date': 2019...</td>\n",
       "      <td>[ORG, CARDINAL, LOC, PERSON, GPE]</td>\n",
       "      <td>\"Mary Jane Symes\" &lt;marys@tvapdx.com&gt;</td>\n",
       "      <td>Help Save the Arctic Refuge</td>\n",
       "      <td>Body-Type: plain-text\\r\\n\\r\\nI just signed thi...</td>\n",
       "      <td>/Top of Personal Folders/symes-k/kate symes 6-...</td>\n",
       "    </tr>\n",
       "  </tbody>\n",
       "</table>\n",
       "</div>"
      ],
      "text/plain": [
       "                                          collection  \\\n",
       "0  {'title': 'kate_symes', 'accession_date': 2019...   \n",
       "1  {'title': 'kate_symes', 'accession_date': 2019...   \n",
       "2  {'title': 'kate_symes', 'accession_date': 2019...   \n",
       "3  {'title': 'kate_symes', 'accession_date': 2019...   \n",
       "4  {'title': 'kate_symes', 'accession_date': 2019...   \n",
       "5  {'title': 'kate_symes', 'accession_date': 2019...   \n",
       "6  {'title': 'kate_symes', 'accession_date': 2019...   \n",
       "7  {'title': 'kate_symes', 'accession_date': 2019...   \n",
       "8  {'title': 'kate_symes', 'accession_date': 2019...   \n",
       "\n",
       "                                              labels  \\\n",
       "0  [FAC, NORP, MONEY, ORG, CARDINAL, LOC, DATE, P...   \n",
       "1  [FAC, NORP, MONEY, ORG, CARDINAL, LOC, DATE, P...   \n",
       "2  [FAC, NORP, MONEY, ORG, CARDINAL, LOC, DATE, P...   \n",
       "3                [MONEY, ORG, CARDINAL, PERSON, GPE]   \n",
       "4                [MONEY, ORG, CARDINAL, PERSON, GPE]   \n",
       "5                [MONEY, ORG, CARDINAL, PERSON, GPE]   \n",
       "6                  [ORG, CARDINAL, LOC, PERSON, GPE]   \n",
       "7                  [ORG, CARDINAL, LOC, PERSON, GPE]   \n",
       "8                  [ORG, CARDINAL, LOC, PERSON, GPE]   \n",
       "\n",
       "                               msg_from                  msg_subject  \\\n",
       "0                          \"Kate Symes\"                    Re: Help!   \n",
       "1                          \"Kate Symes\"                    Re: Help!   \n",
       "2                          \"Kate Symes\"                    Re: Help!   \n",
       "3                         \"Mark Confer\"                 Can You Help   \n",
       "4                         \"Mark Confer\"                 Can You Help   \n",
       "5                         \"Mark Confer\"                 Can You Help   \n",
       "6  \"Mary Jane Symes\" <marys@tvapdx.com>  Help Save the Arctic Refuge   \n",
       "7  \"Mary Jane Symes\" <marys@tvapdx.com>  Help Save the Arctic Refuge   \n",
       "8  \"Mary Jane Symes\" <marys@tvapdx.com>  Help Save the Arctic Refuge   \n",
       "\n",
       "                                            msg_body  \\\n",
       "0  Body-Type: plain-text\\r\\n\\r\\nWhatever she's ma...   \n",
       "1  Body-Type: plain-text\\r\\n\\r\\nWhatever she's ma...   \n",
       "2  Body-Type: plain-text\\r\\n\\r\\nWhatever she's ma...   \n",
       "3  Body-Type: plain-text\\r\\n\\r\\nKate, could you h...   \n",
       "4  Body-Type: plain-text\\r\\n\\r\\nKate, could you h...   \n",
       "5  Body-Type: plain-text\\r\\n\\r\\nKate, could you h...   \n",
       "6  Body-Type: plain-text\\r\\n\\r\\nI just signed thi...   \n",
       "7  Body-Type: plain-text\\r\\n\\r\\nI just signed thi...   \n",
       "8  Body-Type: plain-text\\r\\n\\r\\nI just signed thi...   \n",
       "\n",
       "                                           directory  \n",
       "0  /Top of Personal Folders/symes-k/kate symes 6-...  \n",
       "1  /Top of Personal Folders/symes-k/kate symes 6-...  \n",
       "2  /Top of Personal Folders/symes-k/kate symes 6-...  \n",
       "3  /Top of Personal Folders/symes-k/kate symes 6-...  \n",
       "4  /Top of Personal Folders/symes-k/kate symes 6-...  \n",
       "5  /Top of Personal Folders/symes-k/kate symes 6-...  \n",
       "6  /Top of Personal Folders/symes-k/kate symes 6-...  \n",
       "7  /Top of Personal Folders/symes-k/kate symes 6-...  \n",
       "8  /Top of Personal Folders/symes-k/kate symes 6-...  "
      ]
     },
     "execution_count": 13,
     "metadata": {},
     "output_type": "execute_result"
    }
   ],
   "source": [
    "results_df = pd.DataFrame((d.to_dict() for d in search[:10]))\n",
    "results_df"
   ]
  },
  {
   "cell_type": "markdown",
   "metadata": {},
   "source": [
    "# Facet"
   ]
  },
  {
   "cell_type": "code",
   "execution_count": 14,
   "metadata": {},
   "outputs": [],
   "source": [
    "class MessageSearch(FacetedSearch):\n",
    "    doc_types = [MessageDocument, ]\n",
    "    fields = ['msg_subject', 'msg_body']\n",
    "\n",
    "    facets = {\n",
    "        'labels': TermsFacet(field='labels'),\n",
    "    }"
   ]
  },
  {
   "cell_type": "code",
   "execution_count": 15,
   "metadata": {},
   "outputs": [
    {
     "name": "stderr",
     "output_type": "stream",
     "text": [
      "2019-12-02 09:27:58,626 elasticsearch        INFO     GET http://localhost:9200/_all/_search [status:200 request:0.019s]\n"
     ]
    }
   ],
   "source": [
    "# how do you combine with query?\n",
    "search = MessageSearch(\"help\", {\"labels\": \"PERSON\"})\n",
    "response = search.execute()"
   ]
  },
  {
   "cell_type": "code",
   "execution_count": 16,
   "metadata": {},
   "outputs": [
    {
     "name": "stdout",
     "output_type": "stream",
     "text": [
      "total hits eq 3083\n",
      "9.111702 Re: Help!\n",
      "9.111702 Re: Help!\n",
      "9.111702 Re: Help!\n",
      "8.221744 Can You Help\n",
      "8.221744 Can You Help\n",
      "8.221744 Can You Help\n",
      "6.878141 Re: Help - Missing Profile Books!\n",
      "6.878141 Help Save the Arctic Refuge\n",
      "6.878141 Help Save the Arctic Refuge\n",
      "6.878141 Help Save the Arctic Refuge\n",
      "CARDINAL : 3368\n",
      "ORG : 3368\n",
      "PERSON  (SELECTED): 3083\n",
      "DATE : 3021\n",
      "GPE : 2115\n",
      "TIME : 2047\n",
      "ORDINAL : 856\n",
      "WORK_OF_ART : 651\n",
      "LOC : 610\n",
      "NORP : 595\n"
     ]
    }
   ],
   "source": [
    "# access hits and other attributes as usual\n",
    "total = response.hits.total\n",
    "print('total hits', total.relation, total.value)\n",
    "for hit in response:\n",
    "    print(hit.meta.score, hit.msg_subject)\n",
    "\n",
    "for (tag, count, selected) in response.facets.labels:\n",
    "    print(tag, ' (SELECTED):' if selected else ':', count)"
   ]
  },
  {
   "cell_type": "code",
   "execution_count": null,
   "metadata": {},
   "outputs": [],
   "source": []
  }
 ],
 "metadata": {
  "kernelspec": {
   "display_name": "Python 3",
   "language": "python",
   "name": "python3"
  },
  "language_info": {
   "codemirror_mode": {
    "name": "ipython",
    "version": 3
   },
   "file_extension": ".py",
   "mimetype": "text/x-python",
   "name": "python",
   "nbconvert_exporter": "python",
   "pygments_lexer": "ipython3",
   "version": "3.7.4"
  }
 },
 "nbformat": 4,
 "nbformat_minor": 4
}
