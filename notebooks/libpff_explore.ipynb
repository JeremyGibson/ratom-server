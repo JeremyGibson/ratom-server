{
 "cells": [
  {
   "cell_type": "code",
   "execution_count": 1,
   "metadata": {},
   "outputs": [],
   "source": [
    "# Setup Notebook to load Django code\n",
    "# From project root, run: jupyter-lab\n",
    "\n",
    "import os\n",
    "import sys\n",
    "from pathlib import Path\n",
    "\n",
    "django_project_dir = Path('../')\n",
    "sys.path.insert(0, str(django_project_dir))\n",
    "os.environ.setdefault(\"DJANGO_SETTINGS_MODULE\", \"ratom_api.settings.local\")\n",
    "\n",
    "import django\n",
    "django.setup()"
   ]
  },
  {
   "cell_type": "code",
   "execution_count": 2,
   "metadata": {},
   "outputs": [],
   "source": [
    "import pypff\n",
    "import pytz\n",
    "from libratom.lib.pff import PffArchive\n",
    "from ratom import models as ratom"
   ]
  },
  {
   "cell_type": "code",
   "execution_count": 3,
   "metadata": {},
   "outputs": [],
   "source": [
    "arch = PffArchive('/home/jgibson/Downloads/zach.ambrose-CA1@nc.gov.pst')"
   ]
  },
  {
   "cell_type": "code",
   "execution_count": 4,
   "metadata": {},
   "outputs": [
    {
     "data": {
      "text/plain": [
       "Node(tag=Message ID: 2366436, identifier=2366436, data=<pypff.message object at 0x7fc553598c00>)"
      ]
     },
     "execution_count": 4,
     "metadata": {},
     "output_type": "execute_result"
    }
   ],
   "source": [
    "arch.tree.get_node(2366436)"
   ]
  },
  {
   "cell_type": "code",
   "execution_count": 32,
   "metadata": {},
   "outputs": [
    {
     "name": "stdout",
     "output_type": "stream",
     "text": [
      "None\n",
      "SPAM Search Folder 2\n",
      "Scanning 0 messages in folder SPAM Search Folder 2\n",
      "Top of Personal Folders\n",
      "Scanning 0 messages in folder Top of Personal Folders\n",
      "Search Root\n",
      "Scanning 0 messages in folder Search Root\n",
      "Deleted Items\n",
      "Scanning 0 messages in folder Deleted Items\n",
      ".zach.ambrose-CA1@nc.gov (MainArchive)\n",
      "Scanning 0 messages in folder .zach.ambrose-CA1@nc.gov (MainArchive)\n",
      "Top of Information Store\n",
      "Scanning 0 messages in folder Top of Information Store\n",
      "Deleted Items\n",
      "Scanning 9611 messages in folder Deleted Items\n",
      "Calendar\n",
      "Scanning 14 messages in folder Calendar\n",
      "Contacts\n",
      "Scanning 17 messages in folder Contacts\n",
      "Drafts\n",
      "Scanning 10 messages in folder Drafts\n",
      "Inbox\n",
      "Scanning 138 messages in folder Inbox\n",
      "Mail\n",
      "Scanning 3319 messages in folder Mail\n",
      "Sent Items\n",
      "Scanning 4065 messages in folder Sent Items\n"
     ]
    }
   ],
   "source": [
    "storedf = None\n",
    "for folder in arch.folders():\n",
    "    print(folder.name)\n",
    "    if not folder.name:  # skip root node\n",
    "        continue\n",
    "    print(\n",
    "        f\"Scanning {folder.number_of_sub_messages} messages in folder {folder.name}\"\n",
    "    )\n",
    "    if folder.number_of_sub_messages == 0:\n",
    "        continue\n",
    "    storedf = folder"
   ]
  },
  {
   "cell_type": "code",
   "execution_count": 33,
   "metadata": {},
   "outputs": [
    {
     "data": {
      "text/plain": [
       "{33154: [2365860,\n",
       "  2366436,\n",
       "  2367140,\n",
       "  2367972,\n",
       "  2368676,\n",
       "  2369252,\n",
       "  2369924,\n",
       "  2370500,\n",
       "  2371204,\n",
       "  2371652,\n",
       "  2371908,\n",
       "  2372452,\n",
       "  2372548,\n",
       "  2373124,\n",
       "  2373156,\n",
       "  2373508,\n",
       "  2373764,\n",
       "  2373828,\n",
       "  2374148,\n",
       "  2374212,\n",
       "  2374276,\n",
       "  2374660,\n",
       "  2374916,\n",
       "  2374980,\n",
       "  2375204,\n",
       "  2375396,\n",
       "  2375460,\n",
       "  2375716,\n",
       "  2375812,\n",
       "  2376068,\n",
       "  2376132,\n",
       "  2376228,\n",
       "  2376388,\n",
       "  2376548,\n",
       "  2376580,\n",
       "  2376836,\n",
       "  2376932,\n",
       "  2377188,\n",
       "  2377252,\n",
       "  2377348]}"
      ]
     },
     "execution_count": 33,
     "metadata": {},
     "output_type": "execute_result"
    }
   ],
   "source": [
    "message_ids = []\n",
    "folder_struct = {}\n",
    "folder_id = storedf.identifier\n",
    "count = 0\n",
    "for m in storedf.sub_messages:\n",
    "    if count == 40:\n",
    "        break\n",
    "    message_ids.append(m.identifier)\n",
    "    count += 1\n",
    "folder_struct[folder_id] = message_ids\n",
    "folder_struct"
   ]
  },
  {
   "cell_type": "raw",
   "metadata": {},
   "source": [
    "arch.message_count"
   ]
  },
  {
   "cell_type": "code",
   "execution_count": null,
   "metadata": {},
   "outputs": [],
   "source": []
  }
 ],
 "metadata": {
  "kernelspec": {
   "display_name": "Django Shell-Plus",
   "language": "python",
   "name": "django_extensions"
  },
  "language_info": {
   "codemirror_mode": {
    "name": "ipython",
    "version": 3
   },
   "file_extension": ".py",
   "mimetype": "text/x-python",
   "name": "python",
   "nbconvert_exporter": "python",
   "pygments_lexer": "ipython3",
   "version": "3.7.5"
  }
 },
 "nbformat": 4,
 "nbformat_minor": 4
}
